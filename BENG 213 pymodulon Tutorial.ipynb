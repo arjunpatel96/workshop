{
 "cells": [
  {
   "cell_type": "markdown",
   "metadata": {},
   "source": [
    "# Exploring and annotating pre-calculated iModulons"
   ]
  },
  {
   "cell_type": "markdown",
   "metadata": {},
   "source": [
    "The pymodulon.core.IcaData object is at the core of the PyModulon package. This object holds all of the data related to the expression dataset, the iModulons, and their annotations."
   ]
  },
  {
   "cell_type": "code",
   "execution_count": 1,
   "metadata": {},
   "outputs": [],
   "source": [
    "from pymodulon.core import IcaData\n",
    "from pymodulon import example_data\n",
    "from pymodulon.io import save_to_json, load_json_model"
   ]
  },
  {
   "cell_type": "markdown",
   "metadata": {},
   "source": [
    "## Minimum Requirements"
   ]
  },
  {
   "cell_type": "markdown",
   "metadata": {},
   "source": [
    "Let's explore the M and A matrices of the example data.\n",
    "\n",
    "The IcaData object only requires two matrices, which are the results of performing Independent Component Analysis (ICA) on an expression dataset."
   ]
  },
  {
   "cell_type": "markdown",
   "metadata": {},
   "source": [
    "The iModulon matrix contains the Independent Components (ICs) themselves. Each column represents an IC, and each row contains the gene weights for each gene across each IC."
   ]
  },
  {
   "cell_type": "code",
   "execution_count": 2,
   "metadata": {
    "scrolled": true
   },
   "outputs": [
    {
     "data": {
      "text/html": [
       "<div>\n",
       "<style scoped>\n",
       "    .dataframe tbody tr th:only-of-type {\n",
       "        vertical-align: middle;\n",
       "    }\n",
       "\n",
       "    .dataframe tbody tr th {\n",
       "        vertical-align: top;\n",
       "    }\n",
       "\n",
       "    .dataframe thead th {\n",
       "        text-align: right;\n",
       "    }\n",
       "</style>\n",
       "<table border=\"1\" class=\"dataframe\">\n",
       "  <thead>\n",
       "    <tr style=\"text-align: right;\">\n",
       "      <th></th>\n",
       "      <th>AllR/AraC/FucR</th>\n",
       "      <th>ArcA-1</th>\n",
       "      <th>ArcA-2</th>\n",
       "      <th>ArgR</th>\n",
       "      <th>AtoC</th>\n",
       "      <th>BW25113</th>\n",
       "      <th>Cbl+CysB</th>\n",
       "      <th>CdaR</th>\n",
       "      <th>CecR</th>\n",
       "      <th>Copper</th>\n",
       "      <th>...</th>\n",
       "      <th>thrA-KO</th>\n",
       "      <th>translation</th>\n",
       "      <th>uncharacterized-1</th>\n",
       "      <th>uncharacterized-2</th>\n",
       "      <th>uncharacterized-3</th>\n",
       "      <th>uncharacterized-4</th>\n",
       "      <th>uncharacterized-5</th>\n",
       "      <th>uncharacterized-6</th>\n",
       "      <th>ydcI-KO</th>\n",
       "      <th>yheO-KO</th>\n",
       "    </tr>\n",
       "  </thead>\n",
       "  <tbody>\n",
       "    <tr>\n",
       "      <th>b0002</th>\n",
       "      <td>-0.010888</td>\n",
       "      <td>-0.007717</td>\n",
       "      <td>-0.008502</td>\n",
       "      <td>-0.012186</td>\n",
       "      <td>-0.061489</td>\n",
       "      <td>-0.005599</td>\n",
       "      <td>-0.007377</td>\n",
       "      <td>-0.000795</td>\n",
       "      <td>0.004331</td>\n",
       "      <td>0.001845</td>\n",
       "      <td>...</td>\n",
       "      <td>0.479209</td>\n",
       "      <td>0.035685</td>\n",
       "      <td>0.024778</td>\n",
       "      <td>-0.010660</td>\n",
       "      <td>-0.002123</td>\n",
       "      <td>-0.004416</td>\n",
       "      <td>-0.005428</td>\n",
       "      <td>-0.009219</td>\n",
       "      <td>-0.004345</td>\n",
       "      <td>-0.007838</td>\n",
       "    </tr>\n",
       "    <tr>\n",
       "      <th>b0003</th>\n",
       "      <td>-0.011467</td>\n",
       "      <td>0.003042</td>\n",
       "      <td>0.011448</td>\n",
       "      <td>-0.003685</td>\n",
       "      <td>-0.006106</td>\n",
       "      <td>0.006680</td>\n",
       "      <td>-0.043512</td>\n",
       "      <td>0.005107</td>\n",
       "      <td>0.000474</td>\n",
       "      <td>0.007650</td>\n",
       "      <td>...</td>\n",
       "      <td>0.011420</td>\n",
       "      <td>0.040811</td>\n",
       "      <td>0.003324</td>\n",
       "      <td>-0.008424</td>\n",
       "      <td>-0.004415</td>\n",
       "      <td>-0.016126</td>\n",
       "      <td>-0.016476</td>\n",
       "      <td>-0.003497</td>\n",
       "      <td>-0.003583</td>\n",
       "      <td>0.003381</td>\n",
       "    </tr>\n",
       "    <tr>\n",
       "      <th>b0004</th>\n",
       "      <td>-0.008693</td>\n",
       "      <td>0.003944</td>\n",
       "      <td>0.012347</td>\n",
       "      <td>-0.008104</td>\n",
       "      <td>0.000585</td>\n",
       "      <td>0.003245</td>\n",
       "      <td>-0.041283</td>\n",
       "      <td>0.006390</td>\n",
       "      <td>0.004260</td>\n",
       "      <td>0.007109</td>\n",
       "      <td>...</td>\n",
       "      <td>0.011339</td>\n",
       "      <td>0.036244</td>\n",
       "      <td>0.003710</td>\n",
       "      <td>-0.005212</td>\n",
       "      <td>0.000700</td>\n",
       "      <td>-0.011096</td>\n",
       "      <td>-0.006140</td>\n",
       "      <td>-0.003155</td>\n",
       "      <td>-0.008418</td>\n",
       "      <td>0.000129</td>\n",
       "    </tr>\n",
       "    <tr>\n",
       "      <th>b0005</th>\n",
       "      <td>0.006565</td>\n",
       "      <td>-0.001099</td>\n",
       "      <td>0.009415</td>\n",
       "      <td>-0.008507</td>\n",
       "      <td>0.005399</td>\n",
       "      <td>0.014748</td>\n",
       "      <td>-0.009249</td>\n",
       "      <td>-0.003058</td>\n",
       "      <td>-0.012649</td>\n",
       "      <td>-0.002370</td>\n",
       "      <td>...</td>\n",
       "      <td>-0.015324</td>\n",
       "      <td>0.028972</td>\n",
       "      <td>0.023969</td>\n",
       "      <td>0.000150</td>\n",
       "      <td>0.018497</td>\n",
       "      <td>0.009428</td>\n",
       "      <td>0.001255</td>\n",
       "      <td>-0.006890</td>\n",
       "      <td>-0.028069</td>\n",
       "      <td>0.021534</td>\n",
       "    </tr>\n",
       "    <tr>\n",
       "      <th>b0006</th>\n",
       "      <td>-0.006011</td>\n",
       "      <td>0.009889</td>\n",
       "      <td>-0.005555</td>\n",
       "      <td>-0.000152</td>\n",
       "      <td>-0.002454</td>\n",
       "      <td>0.009678</td>\n",
       "      <td>-0.003456</td>\n",
       "      <td>0.002160</td>\n",
       "      <td>-0.001924</td>\n",
       "      <td>-0.000628</td>\n",
       "      <td>...</td>\n",
       "      <td>-0.005661</td>\n",
       "      <td>0.000700</td>\n",
       "      <td>-0.002538</td>\n",
       "      <td>-0.006103</td>\n",
       "      <td>-0.002506</td>\n",
       "      <td>-0.005077</td>\n",
       "      <td>-0.004616</td>\n",
       "      <td>-0.003585</td>\n",
       "      <td>0.001607</td>\n",
       "      <td>0.001285</td>\n",
       "    </tr>\n",
       "  </tbody>\n",
       "</table>\n",
       "<p>5 rows × 92 columns</p>\n",
       "</div>"
      ],
      "text/plain": [
       "       AllR/AraC/FucR    ArcA-1    ArcA-2      ArgR      AtoC   BW25113  \\\n",
       "b0002       -0.010888 -0.007717 -0.008502 -0.012186 -0.061489 -0.005599   \n",
       "b0003       -0.011467  0.003042  0.011448 -0.003685 -0.006106  0.006680   \n",
       "b0004       -0.008693  0.003944  0.012347 -0.008104  0.000585  0.003245   \n",
       "b0005        0.006565 -0.001099  0.009415 -0.008507  0.005399  0.014748   \n",
       "b0006       -0.006011  0.009889 -0.005555 -0.000152 -0.002454  0.009678   \n",
       "\n",
       "       Cbl+CysB      CdaR      CecR    Copper  ...   thrA-KO  translation  \\\n",
       "b0002 -0.007377 -0.000795  0.004331  0.001845  ...  0.479209     0.035685   \n",
       "b0003 -0.043512  0.005107  0.000474  0.007650  ...  0.011420     0.040811   \n",
       "b0004 -0.041283  0.006390  0.004260  0.007109  ...  0.011339     0.036244   \n",
       "b0005 -0.009249 -0.003058 -0.012649 -0.002370  ... -0.015324     0.028972   \n",
       "b0006 -0.003456  0.002160 -0.001924 -0.000628  ... -0.005661     0.000700   \n",
       "\n",
       "       uncharacterized-1  uncharacterized-2  uncharacterized-3  \\\n",
       "b0002           0.024778          -0.010660          -0.002123   \n",
       "b0003           0.003324          -0.008424          -0.004415   \n",
       "b0004           0.003710          -0.005212           0.000700   \n",
       "b0005           0.023969           0.000150           0.018497   \n",
       "b0006          -0.002538          -0.006103          -0.002506   \n",
       "\n",
       "       uncharacterized-4  uncharacterized-5  uncharacterized-6   ydcI-KO  \\\n",
       "b0002          -0.004416          -0.005428          -0.009219 -0.004345   \n",
       "b0003          -0.016126          -0.016476          -0.003497 -0.003583   \n",
       "b0004          -0.011096          -0.006140          -0.003155 -0.008418   \n",
       "b0005           0.009428           0.001255          -0.006890 -0.028069   \n",
       "b0006          -0.005077          -0.004616          -0.003585  0.001607   \n",
       "\n",
       "        yheO-KO  \n",
       "b0002 -0.007838  \n",
       "b0003  0.003381  \n",
       "b0004  0.000129  \n",
       "b0005  0.021534  \n",
       "b0006  0.001285  \n",
       "\n",
       "[5 rows x 92 columns]"
      ]
     },
     "execution_count": 2,
     "metadata": {},
     "output_type": "execute_result"
    }
   ],
   "source": [
    "M = example_data.M\n",
    "M.head()"
   ]
  },
  {
   "cell_type": "markdown",
   "metadata": {},
   "source": [
    "The Activity matrix contains the condition-specific activities. Each column represents a sample, and each row contains the activity of each iModulon across all samples."
   ]
  },
  {
   "cell_type": "code",
   "execution_count": 3,
   "metadata": {},
   "outputs": [
    {
     "data": {
      "text/html": [
       "<div>\n",
       "<style scoped>\n",
       "    .dataframe tbody tr th:only-of-type {\n",
       "        vertical-align: middle;\n",
       "    }\n",
       "\n",
       "    .dataframe tbody tr th {\n",
       "        vertical-align: top;\n",
       "    }\n",
       "\n",
       "    .dataframe thead th {\n",
       "        text-align: right;\n",
       "    }\n",
       "</style>\n",
       "<table border=\"1\" class=\"dataframe\">\n",
       "  <thead>\n",
       "    <tr style=\"text-align: right;\">\n",
       "      <th></th>\n",
       "      <th>control__wt_glc__1</th>\n",
       "      <th>control__wt_glc__2</th>\n",
       "      <th>fur__wt_dpd__1</th>\n",
       "      <th>fur__wt_dpd__2</th>\n",
       "      <th>fur__wt_fe__1</th>\n",
       "      <th>fur__wt_fe__2</th>\n",
       "      <th>fur__delfur_dpd__1</th>\n",
       "      <th>fur__delfur_dpd__2</th>\n",
       "      <th>fur__delfur_fe2__1</th>\n",
       "      <th>fur__delfur_fe2__2</th>\n",
       "      <th>...</th>\n",
       "      <th>efeU__menFentC_ale29__1</th>\n",
       "      <th>efeU__menFentC_ale29__2</th>\n",
       "      <th>efeU__menFentC_ale30__1</th>\n",
       "      <th>efeU__menFentC_ale30__2</th>\n",
       "      <th>efeU__menFentCubiC_ale36__1</th>\n",
       "      <th>efeU__menFentCubiC_ale36__2</th>\n",
       "      <th>efeU__menFentCubiC_ale37__1</th>\n",
       "      <th>efeU__menFentCubiC_ale37__2</th>\n",
       "      <th>efeU__menFentCubiC_ale38__1</th>\n",
       "      <th>efeU__menFentCubiC_ale38__2</th>\n",
       "    </tr>\n",
       "  </thead>\n",
       "  <tbody>\n",
       "    <tr>\n",
       "      <th>AllR/AraC/FucR</th>\n",
       "      <td>0.378690</td>\n",
       "      <td>-0.378690</td>\n",
       "      <td>2.457678</td>\n",
       "      <td>2.248678</td>\n",
       "      <td>-0.327344</td>\n",
       "      <td>-0.259164</td>\n",
       "      <td>1.777251</td>\n",
       "      <td>2.690655</td>\n",
       "      <td>0.656937</td>\n",
       "      <td>0.319583</td>\n",
       "      <td>...</td>\n",
       "      <td>1.041336</td>\n",
       "      <td>2.203940</td>\n",
       "      <td>3.698292</td>\n",
       "      <td>0.856998</td>\n",
       "      <td>1.557323</td>\n",
       "      <td>0.337806</td>\n",
       "      <td>0.943742</td>\n",
       "      <td>1.736640</td>\n",
       "      <td>0.499461</td>\n",
       "      <td>1.581476</td>\n",
       "    </tr>\n",
       "    <tr>\n",
       "      <th>ArcA-1</th>\n",
       "      <td>-0.440210</td>\n",
       "      <td>0.440210</td>\n",
       "      <td>-5.367360</td>\n",
       "      <td>-5.684301</td>\n",
       "      <td>0.131174</td>\n",
       "      <td>0.348843</td>\n",
       "      <td>-4.436389</td>\n",
       "      <td>-4.770469</td>\n",
       "      <td>-1.799113</td>\n",
       "      <td>-1.474222</td>\n",
       "      <td>...</td>\n",
       "      <td>-6.471714</td>\n",
       "      <td>-6.549861</td>\n",
       "      <td>-3.109145</td>\n",
       "      <td>-2.716183</td>\n",
       "      <td>-2.531192</td>\n",
       "      <td>-1.461022</td>\n",
       "      <td>-0.408849</td>\n",
       "      <td>-0.210397</td>\n",
       "      <td>-5.700321</td>\n",
       "      <td>-6.237836</td>\n",
       "    </tr>\n",
       "    <tr>\n",
       "      <th>ArcA-2</th>\n",
       "      <td>0.762258</td>\n",
       "      <td>-0.762258</td>\n",
       "      <td>2.619623</td>\n",
       "      <td>2.900696</td>\n",
       "      <td>3.120724</td>\n",
       "      <td>2.743634</td>\n",
       "      <td>1.989803</td>\n",
       "      <td>1.555835</td>\n",
       "      <td>1.782500</td>\n",
       "      <td>1.530811</td>\n",
       "      <td>...</td>\n",
       "      <td>2.789653</td>\n",
       "      <td>3.959650</td>\n",
       "      <td>1.585147</td>\n",
       "      <td>0.811182</td>\n",
       "      <td>0.300414</td>\n",
       "      <td>2.537535</td>\n",
       "      <td>1.061408</td>\n",
       "      <td>2.634524</td>\n",
       "      <td>0.125513</td>\n",
       "      <td>1.178747</td>\n",
       "    </tr>\n",
       "    <tr>\n",
       "      <th>ArgR</th>\n",
       "      <td>-0.289630</td>\n",
       "      <td>0.289630</td>\n",
       "      <td>-10.085719</td>\n",
       "      <td>-13.187916</td>\n",
       "      <td>2.371129</td>\n",
       "      <td>1.861918</td>\n",
       "      <td>-8.708701</td>\n",
       "      <td>-7.881588</td>\n",
       "      <td>-1.237027</td>\n",
       "      <td>-1.235604</td>\n",
       "      <td>...</td>\n",
       "      <td>-11.263744</td>\n",
       "      <td>-10.366813</td>\n",
       "      <td>-0.289217</td>\n",
       "      <td>0.389228</td>\n",
       "      <td>-5.142768</td>\n",
       "      <td>-5.014526</td>\n",
       "      <td>-3.648777</td>\n",
       "      <td>-4.125952</td>\n",
       "      <td>-4.286326</td>\n",
       "      <td>-5.475940</td>\n",
       "    </tr>\n",
       "    <tr>\n",
       "      <th>AtoC</th>\n",
       "      <td>0.250770</td>\n",
       "      <td>-0.250770</td>\n",
       "      <td>1.844767</td>\n",
       "      <td>2.055052</td>\n",
       "      <td>0.299345</td>\n",
       "      <td>0.425502</td>\n",
       "      <td>1.801217</td>\n",
       "      <td>1.790987</td>\n",
       "      <td>0.921254</td>\n",
       "      <td>1.410026</td>\n",
       "      <td>...</td>\n",
       "      <td>3.821909</td>\n",
       "      <td>3.306573</td>\n",
       "      <td>2.652394</td>\n",
       "      <td>1.910173</td>\n",
       "      <td>0.927772</td>\n",
       "      <td>1.327549</td>\n",
       "      <td>1.846321</td>\n",
       "      <td>0.909667</td>\n",
       "      <td>2.064662</td>\n",
       "      <td>2.371405</td>\n",
       "    </tr>\n",
       "  </tbody>\n",
       "</table>\n",
       "<p>5 rows × 278 columns</p>\n",
       "</div>"
      ],
      "text/plain": [
       "                control__wt_glc__1  control__wt_glc__2  fur__wt_dpd__1  \\\n",
       "AllR/AraC/FucR            0.378690           -0.378690        2.457678   \n",
       "ArcA-1                   -0.440210            0.440210       -5.367360   \n",
       "ArcA-2                    0.762258           -0.762258        2.619623   \n",
       "ArgR                     -0.289630            0.289630      -10.085719   \n",
       "AtoC                      0.250770           -0.250770        1.844767   \n",
       "\n",
       "                fur__wt_dpd__2  fur__wt_fe__1  fur__wt_fe__2  \\\n",
       "AllR/AraC/FucR        2.248678      -0.327344      -0.259164   \n",
       "ArcA-1               -5.684301       0.131174       0.348843   \n",
       "ArcA-2                2.900696       3.120724       2.743634   \n",
       "ArgR                -13.187916       2.371129       1.861918   \n",
       "AtoC                  2.055052       0.299345       0.425502   \n",
       "\n",
       "                fur__delfur_dpd__1  fur__delfur_dpd__2  fur__delfur_fe2__1  \\\n",
       "AllR/AraC/FucR            1.777251            2.690655            0.656937   \n",
       "ArcA-1                   -4.436389           -4.770469           -1.799113   \n",
       "ArcA-2                    1.989803            1.555835            1.782500   \n",
       "ArgR                     -8.708701           -7.881588           -1.237027   \n",
       "AtoC                      1.801217            1.790987            0.921254   \n",
       "\n",
       "                fur__delfur_fe2__2  ...  efeU__menFentC_ale29__1  \\\n",
       "AllR/AraC/FucR            0.319583  ...                 1.041336   \n",
       "ArcA-1                   -1.474222  ...                -6.471714   \n",
       "ArcA-2                    1.530811  ...                 2.789653   \n",
       "ArgR                     -1.235604  ...               -11.263744   \n",
       "AtoC                      1.410026  ...                 3.821909   \n",
       "\n",
       "                efeU__menFentC_ale29__2  efeU__menFentC_ale30__1  \\\n",
       "AllR/AraC/FucR                 2.203940                 3.698292   \n",
       "ArcA-1                        -6.549861                -3.109145   \n",
       "ArcA-2                         3.959650                 1.585147   \n",
       "ArgR                         -10.366813                -0.289217   \n",
       "AtoC                           3.306573                 2.652394   \n",
       "\n",
       "                efeU__menFentC_ale30__2  efeU__menFentCubiC_ale36__1  \\\n",
       "AllR/AraC/FucR                 0.856998                     1.557323   \n",
       "ArcA-1                        -2.716183                    -2.531192   \n",
       "ArcA-2                         0.811182                     0.300414   \n",
       "ArgR                           0.389228                    -5.142768   \n",
       "AtoC                           1.910173                     0.927772   \n",
       "\n",
       "                efeU__menFentCubiC_ale36__2  efeU__menFentCubiC_ale37__1  \\\n",
       "AllR/AraC/FucR                     0.337806                     0.943742   \n",
       "ArcA-1                            -1.461022                    -0.408849   \n",
       "ArcA-2                             2.537535                     1.061408   \n",
       "ArgR                              -5.014526                    -3.648777   \n",
       "AtoC                               1.327549                     1.846321   \n",
       "\n",
       "                efeU__menFentCubiC_ale37__2  efeU__menFentCubiC_ale38__1  \\\n",
       "AllR/AraC/FucR                     1.736640                     0.499461   \n",
       "ArcA-1                            -0.210397                    -5.700321   \n",
       "ArcA-2                             2.634524                     0.125513   \n",
       "ArgR                              -4.125952                    -4.286326   \n",
       "AtoC                               0.909667                     2.064662   \n",
       "\n",
       "                efeU__menFentCubiC_ale38__2  \n",
       "AllR/AraC/FucR                     1.581476  \n",
       "ArcA-1                            -6.237836  \n",
       "ArcA-2                             1.178747  \n",
       "ArgR                              -5.475940  \n",
       "AtoC                               2.371405  \n",
       "\n",
       "[5 rows x 278 columns]"
      ]
     },
     "execution_count": 3,
     "metadata": {},
     "output_type": "execute_result"
    }
   ],
   "source": [
    "A = example_data.A\n",
    "A.head()"
   ]
  },
  {
   "cell_type": "markdown",
   "metadata": {},
   "source": [
    "To create the IcaData object, the M and A datasets can be entered as either filenames or as a Pandas DataFrame"
   ]
  },
  {
   "cell_type": "code",
   "execution_count": 4,
   "metadata": {},
   "outputs": [
    {
     "data": {
      "text/plain": [
       "<pymodulon.core.IcaData at 0x7fc807531940>"
      ]
     },
     "execution_count": 4,
     "metadata": {},
     "output_type": "execute_result"
    }
   ],
   "source": [
    "ica_data = IcaData(M,A)\n",
    "ica_data"
   ]
  },
  {
   "cell_type": "markdown",
   "metadata": {},
   "source": [
    "Once loaded, the M and A matrices can be accessed directly from the object"
   ]
  },
  {
   "cell_type": "code",
   "execution_count": 5,
   "metadata": {},
   "outputs": [
    {
     "data": {
      "text/html": [
       "<div>\n",
       "<style scoped>\n",
       "    .dataframe tbody tr th:only-of-type {\n",
       "        vertical-align: middle;\n",
       "    }\n",
       "\n",
       "    .dataframe tbody tr th {\n",
       "        vertical-align: top;\n",
       "    }\n",
       "\n",
       "    .dataframe thead th {\n",
       "        text-align: right;\n",
       "    }\n",
       "</style>\n",
       "<table border=\"1\" class=\"dataframe\">\n",
       "  <thead>\n",
       "    <tr style=\"text-align: right;\">\n",
       "      <th></th>\n",
       "      <th>AllR/AraC/FucR</th>\n",
       "      <th>ArcA-1</th>\n",
       "      <th>ArcA-2</th>\n",
       "      <th>ArgR</th>\n",
       "      <th>AtoC</th>\n",
       "      <th>BW25113</th>\n",
       "      <th>Cbl+CysB</th>\n",
       "      <th>CdaR</th>\n",
       "      <th>CecR</th>\n",
       "      <th>Copper</th>\n",
       "      <th>...</th>\n",
       "      <th>thrA-KO</th>\n",
       "      <th>translation</th>\n",
       "      <th>uncharacterized-1</th>\n",
       "      <th>uncharacterized-2</th>\n",
       "      <th>uncharacterized-3</th>\n",
       "      <th>uncharacterized-4</th>\n",
       "      <th>uncharacterized-5</th>\n",
       "      <th>uncharacterized-6</th>\n",
       "      <th>ydcI-KO</th>\n",
       "      <th>yheO-KO</th>\n",
       "    </tr>\n",
       "  </thead>\n",
       "  <tbody>\n",
       "    <tr>\n",
       "      <th>b0002</th>\n",
       "      <td>-0.010888</td>\n",
       "      <td>-0.007717</td>\n",
       "      <td>-0.008502</td>\n",
       "      <td>-0.012186</td>\n",
       "      <td>-0.061489</td>\n",
       "      <td>-0.005599</td>\n",
       "      <td>-0.007377</td>\n",
       "      <td>-0.000795</td>\n",
       "      <td>0.004331</td>\n",
       "      <td>0.001845</td>\n",
       "      <td>...</td>\n",
       "      <td>0.479209</td>\n",
       "      <td>0.035685</td>\n",
       "      <td>0.024778</td>\n",
       "      <td>-0.010660</td>\n",
       "      <td>-0.002123</td>\n",
       "      <td>-0.004416</td>\n",
       "      <td>-0.005428</td>\n",
       "      <td>-0.009219</td>\n",
       "      <td>-0.004345</td>\n",
       "      <td>-0.007838</td>\n",
       "    </tr>\n",
       "    <tr>\n",
       "      <th>b0003</th>\n",
       "      <td>-0.011467</td>\n",
       "      <td>0.003042</td>\n",
       "      <td>0.011448</td>\n",
       "      <td>-0.003685</td>\n",
       "      <td>-0.006106</td>\n",
       "      <td>0.006680</td>\n",
       "      <td>-0.043512</td>\n",
       "      <td>0.005107</td>\n",
       "      <td>0.000474</td>\n",
       "      <td>0.007650</td>\n",
       "      <td>...</td>\n",
       "      <td>0.011420</td>\n",
       "      <td>0.040811</td>\n",
       "      <td>0.003324</td>\n",
       "      <td>-0.008424</td>\n",
       "      <td>-0.004415</td>\n",
       "      <td>-0.016126</td>\n",
       "      <td>-0.016476</td>\n",
       "      <td>-0.003497</td>\n",
       "      <td>-0.003583</td>\n",
       "      <td>0.003381</td>\n",
       "    </tr>\n",
       "    <tr>\n",
       "      <th>b0004</th>\n",
       "      <td>-0.008693</td>\n",
       "      <td>0.003944</td>\n",
       "      <td>0.012347</td>\n",
       "      <td>-0.008104</td>\n",
       "      <td>0.000585</td>\n",
       "      <td>0.003245</td>\n",
       "      <td>-0.041283</td>\n",
       "      <td>0.006390</td>\n",
       "      <td>0.004260</td>\n",
       "      <td>0.007109</td>\n",
       "      <td>...</td>\n",
       "      <td>0.011339</td>\n",
       "      <td>0.036244</td>\n",
       "      <td>0.003710</td>\n",
       "      <td>-0.005212</td>\n",
       "      <td>0.000700</td>\n",
       "      <td>-0.011096</td>\n",
       "      <td>-0.006140</td>\n",
       "      <td>-0.003155</td>\n",
       "      <td>-0.008418</td>\n",
       "      <td>0.000129</td>\n",
       "    </tr>\n",
       "    <tr>\n",
       "      <th>b0005</th>\n",
       "      <td>0.006565</td>\n",
       "      <td>-0.001099</td>\n",
       "      <td>0.009415</td>\n",
       "      <td>-0.008507</td>\n",
       "      <td>0.005399</td>\n",
       "      <td>0.014748</td>\n",
       "      <td>-0.009249</td>\n",
       "      <td>-0.003058</td>\n",
       "      <td>-0.012649</td>\n",
       "      <td>-0.002370</td>\n",
       "      <td>...</td>\n",
       "      <td>-0.015324</td>\n",
       "      <td>0.028972</td>\n",
       "      <td>0.023969</td>\n",
       "      <td>0.000150</td>\n",
       "      <td>0.018497</td>\n",
       "      <td>0.009428</td>\n",
       "      <td>0.001255</td>\n",
       "      <td>-0.006890</td>\n",
       "      <td>-0.028069</td>\n",
       "      <td>0.021534</td>\n",
       "    </tr>\n",
       "    <tr>\n",
       "      <th>b0006</th>\n",
       "      <td>-0.006011</td>\n",
       "      <td>0.009889</td>\n",
       "      <td>-0.005555</td>\n",
       "      <td>-0.000152</td>\n",
       "      <td>-0.002454</td>\n",
       "      <td>0.009678</td>\n",
       "      <td>-0.003456</td>\n",
       "      <td>0.002160</td>\n",
       "      <td>-0.001924</td>\n",
       "      <td>-0.000628</td>\n",
       "      <td>...</td>\n",
       "      <td>-0.005661</td>\n",
       "      <td>0.000700</td>\n",
       "      <td>-0.002538</td>\n",
       "      <td>-0.006103</td>\n",
       "      <td>-0.002506</td>\n",
       "      <td>-0.005077</td>\n",
       "      <td>-0.004616</td>\n",
       "      <td>-0.003585</td>\n",
       "      <td>0.001607</td>\n",
       "      <td>0.001285</td>\n",
       "    </tr>\n",
       "  </tbody>\n",
       "</table>\n",
       "<p>5 rows × 92 columns</p>\n",
       "</div>"
      ],
      "text/plain": [
       "       AllR/AraC/FucR    ArcA-1    ArcA-2      ArgR      AtoC   BW25113  \\\n",
       "b0002       -0.010888 -0.007717 -0.008502 -0.012186 -0.061489 -0.005599   \n",
       "b0003       -0.011467  0.003042  0.011448 -0.003685 -0.006106  0.006680   \n",
       "b0004       -0.008693  0.003944  0.012347 -0.008104  0.000585  0.003245   \n",
       "b0005        0.006565 -0.001099  0.009415 -0.008507  0.005399  0.014748   \n",
       "b0006       -0.006011  0.009889 -0.005555 -0.000152 -0.002454  0.009678   \n",
       "\n",
       "       Cbl+CysB      CdaR      CecR    Copper  ...   thrA-KO  translation  \\\n",
       "b0002 -0.007377 -0.000795  0.004331  0.001845  ...  0.479209     0.035685   \n",
       "b0003 -0.043512  0.005107  0.000474  0.007650  ...  0.011420     0.040811   \n",
       "b0004 -0.041283  0.006390  0.004260  0.007109  ...  0.011339     0.036244   \n",
       "b0005 -0.009249 -0.003058 -0.012649 -0.002370  ... -0.015324     0.028972   \n",
       "b0006 -0.003456  0.002160 -0.001924 -0.000628  ... -0.005661     0.000700   \n",
       "\n",
       "       uncharacterized-1  uncharacterized-2  uncharacterized-3  \\\n",
       "b0002           0.024778          -0.010660          -0.002123   \n",
       "b0003           0.003324          -0.008424          -0.004415   \n",
       "b0004           0.003710          -0.005212           0.000700   \n",
       "b0005           0.023969           0.000150           0.018497   \n",
       "b0006          -0.002538          -0.006103          -0.002506   \n",
       "\n",
       "       uncharacterized-4  uncharacterized-5  uncharacterized-6   ydcI-KO  \\\n",
       "b0002          -0.004416          -0.005428          -0.009219 -0.004345   \n",
       "b0003          -0.016126          -0.016476          -0.003497 -0.003583   \n",
       "b0004          -0.011096          -0.006140          -0.003155 -0.008418   \n",
       "b0005           0.009428           0.001255          -0.006890 -0.028069   \n",
       "b0006          -0.005077          -0.004616          -0.003585  0.001607   \n",
       "\n",
       "        yheO-KO  \n",
       "b0002 -0.007838  \n",
       "b0003  0.003381  \n",
       "b0004  0.000129  \n",
       "b0005  0.021534  \n",
       "b0006  0.001285  \n",
       "\n",
       "[5 rows x 92 columns]"
      ]
     },
     "execution_count": 5,
     "metadata": {},
     "output_type": "execute_result"
    }
   ],
   "source": [
    "ica_data.M.head()"
   ]
  },
  {
   "cell_type": "markdown",
   "metadata": {},
   "source": [
    "If the M and A datasets have row or column names, these will be saved as the sample/gene/iModulon names. Since genes are often re-named when characterized, the locus tag is the preferred identifier."
   ]
  },
  {
   "cell_type": "code",
   "execution_count": 6,
   "metadata": {},
   "outputs": [
    {
     "name": "stdout",
     "output_type": "stream",
     "text": [
      "Gene names: ['b0002', 'b0003', 'b0004', 'b0005', 'b0006']\n",
      "Sample names: ['control__wt_glc__1', 'control__wt_glc__2', 'fur__wt_dpd__1', 'fur__wt_dpd__2', 'fur__wt_fe__1']\n",
      "iModulon names: ['AllR/AraC/FucR', 'ArcA-1', 'ArcA-2', 'ArgR', 'AtoC']\n"
     ]
    }
   ],
   "source": [
    "print('Gene names:',ica_data.gene_names[:5])\n",
    "print('Sample names:',ica_data.sample_names[:5])\n",
    "print('iModulon names:',ica_data.imodulon_names[:5])"
   ]
  },
  {
   "cell_type": "markdown",
   "metadata": {},
   "source": [
    "## Adding the Expression Matrix"
   ]
  },
  {
   "cell_type": "markdown",
   "metadata": {},
   "source": [
    "Now we can take a look at the raw data.\n",
    "\n",
    "The X matrix contains eXpression data and is primarily used for plotting functions. The column names of the X matrix are the sample names, and the row names are the gene identifiers."
   ]
  },
  {
   "cell_type": "code",
   "execution_count": 7,
   "metadata": {
    "scrolled": true
   },
   "outputs": [
    {
     "data": {
      "text/html": [
       "<div>\n",
       "<style scoped>\n",
       "    .dataframe tbody tr th:only-of-type {\n",
       "        vertical-align: middle;\n",
       "    }\n",
       "\n",
       "    .dataframe tbody tr th {\n",
       "        vertical-align: top;\n",
       "    }\n",
       "\n",
       "    .dataframe thead th {\n",
       "        text-align: right;\n",
       "    }\n",
       "</style>\n",
       "<table border=\"1\" class=\"dataframe\">\n",
       "  <thead>\n",
       "    <tr style=\"text-align: right;\">\n",
       "      <th></th>\n",
       "      <th>control__wt_glc__1</th>\n",
       "      <th>control__wt_glc__2</th>\n",
       "      <th>fur__wt_dpd__1</th>\n",
       "      <th>fur__wt_dpd__2</th>\n",
       "      <th>fur__wt_fe__1</th>\n",
       "      <th>fur__wt_fe__2</th>\n",
       "      <th>fur__delfur_dpd__1</th>\n",
       "      <th>fur__delfur_dpd__2</th>\n",
       "      <th>fur__delfur_fe2__1</th>\n",
       "      <th>fur__delfur_fe2__2</th>\n",
       "      <th>...</th>\n",
       "      <th>efeU__menFentC_ale29__1</th>\n",
       "      <th>efeU__menFentC_ale29__2</th>\n",
       "      <th>efeU__menFentC_ale30__1</th>\n",
       "      <th>efeU__menFentC_ale30__2</th>\n",
       "      <th>efeU__menFentCubiC_ale36__1</th>\n",
       "      <th>efeU__menFentCubiC_ale36__2</th>\n",
       "      <th>efeU__menFentCubiC_ale37__1</th>\n",
       "      <th>efeU__menFentCubiC_ale37__2</th>\n",
       "      <th>efeU__menFentCubiC_ale38__1</th>\n",
       "      <th>efeU__menFentCubiC_ale38__2</th>\n",
       "    </tr>\n",
       "  </thead>\n",
       "  <tbody>\n",
       "    <tr>\n",
       "      <th>b0002</th>\n",
       "      <td>-0.061772</td>\n",
       "      <td>0.061772</td>\n",
       "      <td>0.636527</td>\n",
       "      <td>0.819793</td>\n",
       "      <td>-0.003615</td>\n",
       "      <td>-0.289353</td>\n",
       "      <td>-1.092023</td>\n",
       "      <td>-0.777289</td>\n",
       "      <td>0.161343</td>\n",
       "      <td>0.145641</td>\n",
       "      <td>...</td>\n",
       "      <td>-0.797097</td>\n",
       "      <td>-0.791859</td>\n",
       "      <td>0.080114</td>\n",
       "      <td>0.102154</td>\n",
       "      <td>0.608180</td>\n",
       "      <td>0.657673</td>\n",
       "      <td>0.813105</td>\n",
       "      <td>0.854813</td>\n",
       "      <td>0.427986</td>\n",
       "      <td>0.484338</td>\n",
       "    </tr>\n",
       "    <tr>\n",
       "      <th>b0003</th>\n",
       "      <td>-0.053742</td>\n",
       "      <td>0.053742</td>\n",
       "      <td>0.954439</td>\n",
       "      <td>1.334385</td>\n",
       "      <td>0.307588</td>\n",
       "      <td>0.128414</td>\n",
       "      <td>-0.872563</td>\n",
       "      <td>-0.277893</td>\n",
       "      <td>0.428542</td>\n",
       "      <td>0.391761</td>\n",
       "      <td>...</td>\n",
       "      <td>-0.309105</td>\n",
       "      <td>-0.352535</td>\n",
       "      <td>-0.155074</td>\n",
       "      <td>-0.077145</td>\n",
       "      <td>0.447030</td>\n",
       "      <td>0.439881</td>\n",
       "      <td>0.554528</td>\n",
       "      <td>0.569030</td>\n",
       "      <td>0.154905</td>\n",
       "      <td>0.294799</td>\n",
       "    </tr>\n",
       "    <tr>\n",
       "      <th>b0004</th>\n",
       "      <td>-0.065095</td>\n",
       "      <td>0.065095</td>\n",
       "      <td>-0.202697</td>\n",
       "      <td>0.119195</td>\n",
       "      <td>-0.264995</td>\n",
       "      <td>-0.546017</td>\n",
       "      <td>-1.918349</td>\n",
       "      <td>-1.577736</td>\n",
       "      <td>-0.474815</td>\n",
       "      <td>-0.495312</td>\n",
       "      <td>...</td>\n",
       "      <td>-0.184898</td>\n",
       "      <td>-0.225615</td>\n",
       "      <td>0.019575</td>\n",
       "      <td>0.063986</td>\n",
       "      <td>0.483343</td>\n",
       "      <td>0.452754</td>\n",
       "      <td>0.524828</td>\n",
       "      <td>0.581878</td>\n",
       "      <td>0.293239</td>\n",
       "      <td>0.341040</td>\n",
       "    </tr>\n",
       "    <tr>\n",
       "      <th>b0005</th>\n",
       "      <td>0.028802</td>\n",
       "      <td>-0.028802</td>\n",
       "      <td>-0.865171</td>\n",
       "      <td>-0.951179</td>\n",
       "      <td>0.428769</td>\n",
       "      <td>0.123564</td>\n",
       "      <td>-1.660351</td>\n",
       "      <td>-1.531147</td>\n",
       "      <td>0.240353</td>\n",
       "      <td>-0.151132</td>\n",
       "      <td>...</td>\n",
       "      <td>-0.308221</td>\n",
       "      <td>-0.581714</td>\n",
       "      <td>0.018820</td>\n",
       "      <td>0.004040</td>\n",
       "      <td>-1.228763</td>\n",
       "      <td>-1.451750</td>\n",
       "      <td>-0.839203</td>\n",
       "      <td>-0.529349</td>\n",
       "      <td>-0.413336</td>\n",
       "      <td>-0.478682</td>\n",
       "    </tr>\n",
       "    <tr>\n",
       "      <th>b0006</th>\n",
       "      <td>0.009087</td>\n",
       "      <td>-0.009087</td>\n",
       "      <td>-0.131039</td>\n",
       "      <td>-0.124079</td>\n",
       "      <td>-0.144870</td>\n",
       "      <td>-0.090152</td>\n",
       "      <td>-0.219917</td>\n",
       "      <td>-0.046648</td>\n",
       "      <td>-0.044537</td>\n",
       "      <td>-0.089204</td>\n",
       "      <td>...</td>\n",
       "      <td>1.464603</td>\n",
       "      <td>1.415706</td>\n",
       "      <td>1.230831</td>\n",
       "      <td>1.165153</td>\n",
       "      <td>0.447447</td>\n",
       "      <td>0.458852</td>\n",
       "      <td>0.421417</td>\n",
       "      <td>0.408077</td>\n",
       "      <td>1.151066</td>\n",
       "      <td>1.198529</td>\n",
       "    </tr>\n",
       "  </tbody>\n",
       "</table>\n",
       "<p>5 rows × 278 columns</p>\n",
       "</div>"
      ],
      "text/plain": [
       "       control__wt_glc__1  control__wt_glc__2  fur__wt_dpd__1  fur__wt_dpd__2  \\\n",
       "b0002           -0.061772            0.061772        0.636527        0.819793   \n",
       "b0003           -0.053742            0.053742        0.954439        1.334385   \n",
       "b0004           -0.065095            0.065095       -0.202697        0.119195   \n",
       "b0005            0.028802           -0.028802       -0.865171       -0.951179   \n",
       "b0006            0.009087           -0.009087       -0.131039       -0.124079   \n",
       "\n",
       "       fur__wt_fe__1  fur__wt_fe__2  fur__delfur_dpd__1  fur__delfur_dpd__2  \\\n",
       "b0002      -0.003615      -0.289353           -1.092023           -0.777289   \n",
       "b0003       0.307588       0.128414           -0.872563           -0.277893   \n",
       "b0004      -0.264995      -0.546017           -1.918349           -1.577736   \n",
       "b0005       0.428769       0.123564           -1.660351           -1.531147   \n",
       "b0006      -0.144870      -0.090152           -0.219917           -0.046648   \n",
       "\n",
       "       fur__delfur_fe2__1  fur__delfur_fe2__2  ...  efeU__menFentC_ale29__1  \\\n",
       "b0002            0.161343            0.145641  ...                -0.797097   \n",
       "b0003            0.428542            0.391761  ...                -0.309105   \n",
       "b0004           -0.474815           -0.495312  ...                -0.184898   \n",
       "b0005            0.240353           -0.151132  ...                -0.308221   \n",
       "b0006           -0.044537           -0.089204  ...                 1.464603   \n",
       "\n",
       "       efeU__menFentC_ale29__2  efeU__menFentC_ale30__1  \\\n",
       "b0002                -0.791859                 0.080114   \n",
       "b0003                -0.352535                -0.155074   \n",
       "b0004                -0.225615                 0.019575   \n",
       "b0005                -0.581714                 0.018820   \n",
       "b0006                 1.415706                 1.230831   \n",
       "\n",
       "       efeU__menFentC_ale30__2  efeU__menFentCubiC_ale36__1  \\\n",
       "b0002                 0.102154                     0.608180   \n",
       "b0003                -0.077145                     0.447030   \n",
       "b0004                 0.063986                     0.483343   \n",
       "b0005                 0.004040                    -1.228763   \n",
       "b0006                 1.165153                     0.447447   \n",
       "\n",
       "       efeU__menFentCubiC_ale36__2  efeU__menFentCubiC_ale37__1  \\\n",
       "b0002                     0.657673                     0.813105   \n",
       "b0003                     0.439881                     0.554528   \n",
       "b0004                     0.452754                     0.524828   \n",
       "b0005                    -1.451750                    -0.839203   \n",
       "b0006                     0.458852                     0.421417   \n",
       "\n",
       "       efeU__menFentCubiC_ale37__2  efeU__menFentCubiC_ale38__1  \\\n",
       "b0002                     0.854813                     0.427986   \n",
       "b0003                     0.569030                     0.154905   \n",
       "b0004                     0.581878                     0.293239   \n",
       "b0005                    -0.529349                    -0.413336   \n",
       "b0006                     0.408077                     1.151066   \n",
       "\n",
       "       efeU__menFentCubiC_ale38__2  \n",
       "b0002                     0.484338  \n",
       "b0003                     0.294799  \n",
       "b0004                     0.341040  \n",
       "b0005                    -0.478682  \n",
       "b0006                     1.198529  \n",
       "\n",
       "[5 rows x 278 columns]"
      ]
     },
     "execution_count": 7,
     "metadata": {},
     "output_type": "execute_result"
    }
   ],
   "source": [
    "X = example_data.X\n",
    "X.head()"
   ]
  },
  {
   "cell_type": "code",
   "execution_count": 8,
   "metadata": {},
   "outputs": [],
   "source": [
    "ica_data.X = X"
   ]
  },
  {
   "cell_type": "markdown",
   "metadata": {},
   "source": [
    "## Adding Annotation Tables"
   ]
  },
  {
   "cell_type": "markdown",
   "metadata": {},
   "source": [
    "You may load in additional data tables with information about your samples, genes, or iModulons.\n",
    "\n",
    "These tables are originally empty, but can be altered like any Pandas DataFrame."
   ]
  },
  {
   "cell_type": "code",
   "execution_count": 9,
   "metadata": {},
   "outputs": [
    {
     "data": {
      "text/html": [
       "<div>\n",
       "<style scoped>\n",
       "    .dataframe tbody tr th:only-of-type {\n",
       "        vertical-align: middle;\n",
       "    }\n",
       "\n",
       "    .dataframe tbody tr th {\n",
       "        vertical-align: top;\n",
       "    }\n",
       "\n",
       "    .dataframe thead th {\n",
       "        text-align: right;\n",
       "    }\n",
       "</style>\n",
       "<table border=\"1\" class=\"dataframe\">\n",
       "  <thead>\n",
       "    <tr style=\"text-align: right;\">\n",
       "      <th></th>\n",
       "    </tr>\n",
       "  </thead>\n",
       "  <tbody>\n",
       "    <tr>\n",
       "      <th>b0002</th>\n",
       "    </tr>\n",
       "    <tr>\n",
       "      <th>b0003</th>\n",
       "    </tr>\n",
       "    <tr>\n",
       "      <th>b0004</th>\n",
       "    </tr>\n",
       "    <tr>\n",
       "      <th>b0005</th>\n",
       "    </tr>\n",
       "    <tr>\n",
       "      <th>b0006</th>\n",
       "    </tr>\n",
       "  </tbody>\n",
       "</table>\n",
       "</div>"
      ],
      "text/plain": [
       "Empty DataFrame\n",
       "Columns: []\n",
       "Index: [b0002, b0003, b0004, b0005, b0006]"
      ]
     },
     "execution_count": 9,
     "metadata": {},
     "output_type": "execute_result"
    }
   ],
   "source": [
    "ica_data.gene_table.head()"
   ]
  },
  {
   "cell_type": "markdown",
   "metadata": {},
   "source": [
    "Annotation tables contain one sample/gene/iModulon per row, and information about the respective item in columns. \n",
    "\n",
    "For example, a gene_table may include the gene function, genomic position, or Cluster of Orthologous Groups (COG) Category.\n",
    "\n",
    "Gene names must match the gene names in the M matrix."
   ]
  },
  {
   "cell_type": "code",
   "execution_count": 10,
   "metadata": {},
   "outputs": [
    {
     "data": {
      "text/html": [
       "<div>\n",
       "<style scoped>\n",
       "    .dataframe tbody tr th:only-of-type {\n",
       "        vertical-align: middle;\n",
       "    }\n",
       "\n",
       "    .dataframe tbody tr th {\n",
       "        vertical-align: top;\n",
       "    }\n",
       "\n",
       "    .dataframe thead th {\n",
       "        text-align: right;\n",
       "    }\n",
       "</style>\n",
       "<table border=\"1\" class=\"dataframe\">\n",
       "  <thead>\n",
       "    <tr style=\"text-align: right;\">\n",
       "      <th></th>\n",
       "      <th>start</th>\n",
       "      <th>end</th>\n",
       "      <th>strand</th>\n",
       "      <th>gene_name</th>\n",
       "      <th>length</th>\n",
       "      <th>operon</th>\n",
       "      <th>COG</th>\n",
       "      <th>accession</th>\n",
       "    </tr>\n",
       "  </thead>\n",
       "  <tbody>\n",
       "    <tr>\n",
       "      <th>b0001</th>\n",
       "      <td>189</td>\n",
       "      <td>255</td>\n",
       "      <td>+</td>\n",
       "      <td>thrL</td>\n",
       "      <td>66</td>\n",
       "      <td>thrLABC</td>\n",
       "      <td>No COG Annotation</td>\n",
       "      <td>NC_000913.3</td>\n",
       "    </tr>\n",
       "    <tr>\n",
       "      <th>b0002</th>\n",
       "      <td>336</td>\n",
       "      <td>2799</td>\n",
       "      <td>+</td>\n",
       "      <td>thrA</td>\n",
       "      <td>2463</td>\n",
       "      <td>thrLABC</td>\n",
       "      <td>Amino acid transport and metabolism</td>\n",
       "      <td>NC_000913.3</td>\n",
       "    </tr>\n",
       "    <tr>\n",
       "      <th>b0003</th>\n",
       "      <td>2800</td>\n",
       "      <td>3733</td>\n",
       "      <td>+</td>\n",
       "      <td>thrB</td>\n",
       "      <td>933</td>\n",
       "      <td>thrLABC</td>\n",
       "      <td>Amino acid transport and metabolism</td>\n",
       "      <td>NC_000913.3</td>\n",
       "    </tr>\n",
       "    <tr>\n",
       "      <th>b0004</th>\n",
       "      <td>3733</td>\n",
       "      <td>5020</td>\n",
       "      <td>+</td>\n",
       "      <td>thrC</td>\n",
       "      <td>1287</td>\n",
       "      <td>thrLABC</td>\n",
       "      <td>Amino acid transport and metabolism</td>\n",
       "      <td>NC_000913.3</td>\n",
       "    </tr>\n",
       "    <tr>\n",
       "      <th>b0005</th>\n",
       "      <td>5233</td>\n",
       "      <td>5530</td>\n",
       "      <td>+</td>\n",
       "      <td>yaaX</td>\n",
       "      <td>297</td>\n",
       "      <td>yaaX</td>\n",
       "      <td>Function unknown</td>\n",
       "      <td>NC_000913.3</td>\n",
       "    </tr>\n",
       "  </tbody>\n",
       "</table>\n",
       "</div>"
      ],
      "text/plain": [
       "       start   end strand gene_name  length   operon  \\\n",
       "b0001    189   255      +      thrL      66  thrLABC   \n",
       "b0002    336  2799      +      thrA    2463  thrLABC   \n",
       "b0003   2800  3733      +      thrB     933  thrLABC   \n",
       "b0004   3733  5020      +      thrC    1287  thrLABC   \n",
       "b0005   5233  5530      +      yaaX     297     yaaX   \n",
       "\n",
       "                                       COG    accession  \n",
       "b0001                    No COG Annotation  NC_000913.3  \n",
       "b0002  Amino acid transport and metabolism  NC_000913.3  \n",
       "b0003  Amino acid transport and metabolism  NC_000913.3  \n",
       "b0004  Amino acid transport and metabolism  NC_000913.3  \n",
       "b0005                     Function unknown  NC_000913.3  "
      ]
     },
     "execution_count": 10,
     "metadata": {},
     "output_type": "execute_result"
    }
   ],
   "source": [
    "gene_table = example_data.gene_table\n",
    "gene_table.head()"
   ]
  },
  {
   "cell_type": "markdown",
   "metadata": {},
   "source": [
    "The sample_table contains detailed experimental metadata about each sample. This must be manually created, and can contain information related to the strains or experimental conditions used in the study.\n",
    "\n",
    "The project and condition columns in the sample table will be useful for the plotting functions."
   ]
  },
  {
   "cell_type": "code",
   "execution_count": 11,
   "metadata": {},
   "outputs": [
    {
     "data": {
      "text/html": [
       "<div>\n",
       "<style scoped>\n",
       "    .dataframe tbody tr th:only-of-type {\n",
       "        vertical-align: middle;\n",
       "    }\n",
       "\n",
       "    .dataframe tbody tr th {\n",
       "        vertical-align: top;\n",
       "    }\n",
       "\n",
       "    .dataframe thead th {\n",
       "        text-align: right;\n",
       "    }\n",
       "</style>\n",
       "<table border=\"1\" class=\"dataframe\">\n",
       "  <thead>\n",
       "    <tr style=\"text-align: right;\">\n",
       "      <th></th>\n",
       "      <th>Study</th>\n",
       "      <th>project</th>\n",
       "      <th>condition</th>\n",
       "      <th>Replicate #</th>\n",
       "      <th>Strain Description</th>\n",
       "      <th>Strain</th>\n",
       "      <th>Base Media</th>\n",
       "      <th>Carbon Source (g/L)</th>\n",
       "      <th>Nitrogen Source (g/L)</th>\n",
       "      <th>Electron Acceptor</th>\n",
       "      <th>...</th>\n",
       "      <th>Growth Rate (1/hr)</th>\n",
       "      <th>Evolved Sample</th>\n",
       "      <th>Isolate Type</th>\n",
       "      <th>Sequencing Machine</th>\n",
       "      <th>ALEdb sample</th>\n",
       "      <th>Additional Details</th>\n",
       "      <th>Biological Replicates</th>\n",
       "      <th>Alignment</th>\n",
       "      <th>DOI</th>\n",
       "      <th>GEO</th>\n",
       "    </tr>\n",
       "    <tr>\n",
       "      <th>Sample ID</th>\n",
       "      <th></th>\n",
       "      <th></th>\n",
       "      <th></th>\n",
       "      <th></th>\n",
       "      <th></th>\n",
       "      <th></th>\n",
       "      <th></th>\n",
       "      <th></th>\n",
       "      <th></th>\n",
       "      <th></th>\n",
       "      <th></th>\n",
       "      <th></th>\n",
       "      <th></th>\n",
       "      <th></th>\n",
       "      <th></th>\n",
       "      <th></th>\n",
       "      <th></th>\n",
       "      <th></th>\n",
       "      <th></th>\n",
       "      <th></th>\n",
       "      <th></th>\n",
       "    </tr>\n",
       "  </thead>\n",
       "  <tbody>\n",
       "    <tr>\n",
       "      <th>control__wt_glc__1</th>\n",
       "      <td>Control</td>\n",
       "      <td>control</td>\n",
       "      <td>wt_glc</td>\n",
       "      <td>1</td>\n",
       "      <td>Escherichia coli K-12 MG1655</td>\n",
       "      <td>MG1655</td>\n",
       "      <td>M9</td>\n",
       "      <td>glucose(2)</td>\n",
       "      <td>NH4Cl(1)</td>\n",
       "      <td>O2</td>\n",
       "      <td>...</td>\n",
       "      <td>NaN</td>\n",
       "      <td>No</td>\n",
       "      <td>NaN</td>\n",
       "      <td>MiSeq</td>\n",
       "      <td>NaN</td>\n",
       "      <td>NaN</td>\n",
       "      <td>2</td>\n",
       "      <td>94.33</td>\n",
       "      <td>doi.org/10.1101/080929</td>\n",
       "      <td>GSE65643</td>\n",
       "    </tr>\n",
       "    <tr>\n",
       "      <th>control__wt_glc__2</th>\n",
       "      <td>Control</td>\n",
       "      <td>control</td>\n",
       "      <td>wt_glc</td>\n",
       "      <td>2</td>\n",
       "      <td>Escherichia coli K-12 MG1655</td>\n",
       "      <td>MG1655</td>\n",
       "      <td>M9</td>\n",
       "      <td>glucose(2)</td>\n",
       "      <td>NH4Cl(1)</td>\n",
       "      <td>O2</td>\n",
       "      <td>...</td>\n",
       "      <td>NaN</td>\n",
       "      <td>No</td>\n",
       "      <td>NaN</td>\n",
       "      <td>MiSeq</td>\n",
       "      <td>NaN</td>\n",
       "      <td>NaN</td>\n",
       "      <td>2</td>\n",
       "      <td>94.24</td>\n",
       "      <td>doi.org/10.1101/080929</td>\n",
       "      <td>GSE65643</td>\n",
       "    </tr>\n",
       "    <tr>\n",
       "      <th>fur__wt_dpd__1</th>\n",
       "      <td>Fur</td>\n",
       "      <td>fur</td>\n",
       "      <td>wt_dpd</td>\n",
       "      <td>1</td>\n",
       "      <td>Escherichia coli K-12 MG1655</td>\n",
       "      <td>MG1655</td>\n",
       "      <td>M9</td>\n",
       "      <td>glucose(2)</td>\n",
       "      <td>NH4Cl(1)</td>\n",
       "      <td>O2</td>\n",
       "      <td>...</td>\n",
       "      <td>0.00</td>\n",
       "      <td>No</td>\n",
       "      <td>NaN</td>\n",
       "      <td>MiSeq</td>\n",
       "      <td>NaN</td>\n",
       "      <td>NaN</td>\n",
       "      <td>2</td>\n",
       "      <td>98.04</td>\n",
       "      <td>doi.org/10.1038/ncomms5910</td>\n",
       "      <td>GSE54900</td>\n",
       "    </tr>\n",
       "    <tr>\n",
       "      <th>fur__wt_dpd__2</th>\n",
       "      <td>Fur</td>\n",
       "      <td>fur</td>\n",
       "      <td>wt_dpd</td>\n",
       "      <td>2</td>\n",
       "      <td>Escherichia coli K-12 MG1655</td>\n",
       "      <td>MG1655</td>\n",
       "      <td>M9</td>\n",
       "      <td>glucose(2)</td>\n",
       "      <td>NH4Cl(1)</td>\n",
       "      <td>O2</td>\n",
       "      <td>...</td>\n",
       "      <td>0.00</td>\n",
       "      <td>No</td>\n",
       "      <td>NaN</td>\n",
       "      <td>MiSeq</td>\n",
       "      <td>NaN</td>\n",
       "      <td>NaN</td>\n",
       "      <td>2</td>\n",
       "      <td>98.30</td>\n",
       "      <td>doi.org/10.1038/ncomms5910</td>\n",
       "      <td>GSE54900</td>\n",
       "    </tr>\n",
       "    <tr>\n",
       "      <th>fur__wt_fe__1</th>\n",
       "      <td>Fur</td>\n",
       "      <td>fur</td>\n",
       "      <td>wt_fe</td>\n",
       "      <td>1</td>\n",
       "      <td>Escherichia coli K-12 MG1655</td>\n",
       "      <td>MG1655</td>\n",
       "      <td>M9</td>\n",
       "      <td>glucose(2)</td>\n",
       "      <td>NH4Cl(1)</td>\n",
       "      <td>O2</td>\n",
       "      <td>...</td>\n",
       "      <td>1.06</td>\n",
       "      <td>No</td>\n",
       "      <td>NaN</td>\n",
       "      <td>MiSeq</td>\n",
       "      <td>NaN</td>\n",
       "      <td>NaN</td>\n",
       "      <td>2</td>\n",
       "      <td>93.35</td>\n",
       "      <td>doi.org/10.1038/ncomms5910</td>\n",
       "      <td>GSE54900</td>\n",
       "    </tr>\n",
       "  </tbody>\n",
       "</table>\n",
       "<p>5 rows × 26 columns</p>\n",
       "</div>"
      ],
      "text/plain": [
       "                      Study  project condition  Replicate #  \\\n",
       "Sample ID                                                     \n",
       "control__wt_glc__1  Control  control    wt_glc            1   \n",
       "control__wt_glc__2  Control  control    wt_glc            2   \n",
       "fur__wt_dpd__1          Fur      fur    wt_dpd            1   \n",
       "fur__wt_dpd__2          Fur      fur    wt_dpd            2   \n",
       "fur__wt_fe__1           Fur      fur     wt_fe            1   \n",
       "\n",
       "                              Strain Description  Strain Base Media  \\\n",
       "Sample ID                                                             \n",
       "control__wt_glc__1  Escherichia coli K-12 MG1655  MG1655         M9   \n",
       "control__wt_glc__2  Escherichia coli K-12 MG1655  MG1655         M9   \n",
       "fur__wt_dpd__1      Escherichia coli K-12 MG1655  MG1655         M9   \n",
       "fur__wt_dpd__2      Escherichia coli K-12 MG1655  MG1655         M9   \n",
       "fur__wt_fe__1       Escherichia coli K-12 MG1655  MG1655         M9   \n",
       "\n",
       "                   Carbon Source (g/L) Nitrogen Source (g/L)  \\\n",
       "Sample ID                                                      \n",
       "control__wt_glc__1          glucose(2)              NH4Cl(1)   \n",
       "control__wt_glc__2          glucose(2)              NH4Cl(1)   \n",
       "fur__wt_dpd__1              glucose(2)              NH4Cl(1)   \n",
       "fur__wt_dpd__2              glucose(2)              NH4Cl(1)   \n",
       "fur__wt_fe__1               glucose(2)              NH4Cl(1)   \n",
       "\n",
       "                   Electron Acceptor  ... Growth Rate (1/hr) Evolved Sample  \\\n",
       "Sample ID                             ...                                     \n",
       "control__wt_glc__1                O2  ...                NaN             No   \n",
       "control__wt_glc__2                O2  ...                NaN             No   \n",
       "fur__wt_dpd__1                    O2  ...               0.00             No   \n",
       "fur__wt_dpd__2                    O2  ...               0.00             No   \n",
       "fur__wt_fe__1                     O2  ...               1.06             No   \n",
       "\n",
       "                    Isolate Type  Sequencing Machine ALEdb sample  \\\n",
       "Sample ID                                                           \n",
       "control__wt_glc__1           NaN               MiSeq          NaN   \n",
       "control__wt_glc__2           NaN               MiSeq          NaN   \n",
       "fur__wt_dpd__1               NaN               MiSeq          NaN   \n",
       "fur__wt_dpd__2               NaN               MiSeq          NaN   \n",
       "fur__wt_fe__1                NaN               MiSeq          NaN   \n",
       "\n",
       "                   Additional Details  Biological Replicates Alignment  \\\n",
       "Sample ID                                                                \n",
       "control__wt_glc__1                NaN                      2     94.33   \n",
       "control__wt_glc__2                NaN                      2     94.24   \n",
       "fur__wt_dpd__1                    NaN                      2     98.04   \n",
       "fur__wt_dpd__2                    NaN                      2     98.30   \n",
       "fur__wt_fe__1                     NaN                      2     93.35   \n",
       "\n",
       "                                           DOI       GEO  \n",
       "Sample ID                                                 \n",
       "control__wt_glc__1      doi.org/10.1101/080929  GSE65643  \n",
       "control__wt_glc__2      doi.org/10.1101/080929  GSE65643  \n",
       "fur__wt_dpd__1      doi.org/10.1038/ncomms5910  GSE54900  \n",
       "fur__wt_dpd__2      doi.org/10.1038/ncomms5910  GSE54900  \n",
       "fur__wt_fe__1       doi.org/10.1038/ncomms5910  GSE54900  \n",
       "\n",
       "[5 rows x 26 columns]"
      ]
     },
     "execution_count": 11,
     "metadata": {},
     "output_type": "execute_result"
    }
   ],
   "source": [
    "sample_table = example_data.sample_table\n",
    "sample_table.head()"
   ]
  },
  {
   "cell_type": "markdown",
   "metadata": {},
   "source": [
    "The imodulon_table contains information about each iModulon, such as regulator enrichments or iModulon size."
   ]
  },
  {
   "cell_type": "code",
   "execution_count": 12,
   "metadata": {},
   "outputs": [
    {
     "data": {
      "text/html": [
       "<div>\n",
       "<style scoped>\n",
       "    .dataframe tbody tr th:only-of-type {\n",
       "        vertical-align: middle;\n",
       "    }\n",
       "\n",
       "    .dataframe tbody tr th {\n",
       "        vertical-align: top;\n",
       "    }\n",
       "\n",
       "    .dataframe thead th {\n",
       "        text-align: right;\n",
       "    }\n",
       "</style>\n",
       "<table border=\"1\" class=\"dataframe\">\n",
       "  <thead>\n",
       "    <tr style=\"text-align: right;\">\n",
       "      <th></th>\n",
       "      <th>regulator</th>\n",
       "      <th>f1score</th>\n",
       "      <th>pvalue</th>\n",
       "      <th>precision</th>\n",
       "      <th>recall</th>\n",
       "      <th>TP</th>\n",
       "      <th>n_genes</th>\n",
       "      <th>n_tf</th>\n",
       "      <th>Category</th>\n",
       "      <th>threshold</th>\n",
       "    </tr>\n",
       "    <tr>\n",
       "      <th>name</th>\n",
       "      <th></th>\n",
       "      <th></th>\n",
       "      <th></th>\n",
       "      <th></th>\n",
       "      <th></th>\n",
       "      <th></th>\n",
       "      <th></th>\n",
       "      <th></th>\n",
       "      <th></th>\n",
       "      <th></th>\n",
       "    </tr>\n",
       "  </thead>\n",
       "  <tbody>\n",
       "    <tr>\n",
       "      <th>AllR/AraC/FucR</th>\n",
       "      <td>allR/araC/fucR</td>\n",
       "      <td>0.750000</td>\n",
       "      <td>1.190000e-41</td>\n",
       "      <td>1.000000</td>\n",
       "      <td>0.600000</td>\n",
       "      <td>18.0</td>\n",
       "      <td>18</td>\n",
       "      <td>3</td>\n",
       "      <td>Carbon Source Utilization</td>\n",
       "      <td>0.086996</td>\n",
       "    </tr>\n",
       "    <tr>\n",
       "      <th>ArcA-1</th>\n",
       "      <td>arcA</td>\n",
       "      <td>0.130952</td>\n",
       "      <td>6.420000e-20</td>\n",
       "      <td>0.660000</td>\n",
       "      <td>0.072687</td>\n",
       "      <td>33.0</td>\n",
       "      <td>50</td>\n",
       "      <td>1</td>\n",
       "      <td>Energy Metabolism</td>\n",
       "      <td>0.058051</td>\n",
       "    </tr>\n",
       "    <tr>\n",
       "      <th>ArcA-2</th>\n",
       "      <td>arcA</td>\n",
       "      <td>0.087683</td>\n",
       "      <td>1.150000e-16</td>\n",
       "      <td>0.840000</td>\n",
       "      <td>0.046256</td>\n",
       "      <td>21.0</td>\n",
       "      <td>25</td>\n",
       "      <td>1</td>\n",
       "      <td>Energy Metabolism</td>\n",
       "      <td>0.081113</td>\n",
       "    </tr>\n",
       "    <tr>\n",
       "      <th>ArgR</th>\n",
       "      <td>argR</td>\n",
       "      <td>0.177778</td>\n",
       "      <td>6.030000e-18</td>\n",
       "      <td>0.923077</td>\n",
       "      <td>0.098361</td>\n",
       "      <td>12.0</td>\n",
       "      <td>13</td>\n",
       "      <td>1</td>\n",
       "      <td>Amino Acid and Nucleotide Biosynthesis</td>\n",
       "      <td>0.080441</td>\n",
       "    </tr>\n",
       "    <tr>\n",
       "      <th>AtoC</th>\n",
       "      <td>atoC</td>\n",
       "      <td>0.800000</td>\n",
       "      <td>1.520000e-12</td>\n",
       "      <td>0.666667</td>\n",
       "      <td>1.000000</td>\n",
       "      <td>4.0</td>\n",
       "      <td>6</td>\n",
       "      <td>1</td>\n",
       "      <td>Miscellaneous Metabolism</td>\n",
       "      <td>0.105756</td>\n",
       "    </tr>\n",
       "  </tbody>\n",
       "</table>\n",
       "</div>"
      ],
      "text/plain": [
       "                     regulator   f1score        pvalue  precision    recall  \\\n",
       "name                                                                          \n",
       "AllR/AraC/FucR  allR/araC/fucR  0.750000  1.190000e-41   1.000000  0.600000   \n",
       "ArcA-1                    arcA  0.130952  6.420000e-20   0.660000  0.072687   \n",
       "ArcA-2                    arcA  0.087683  1.150000e-16   0.840000  0.046256   \n",
       "ArgR                      argR  0.177778  6.030000e-18   0.923077  0.098361   \n",
       "AtoC                      atoC  0.800000  1.520000e-12   0.666667  1.000000   \n",
       "\n",
       "                  TP  n_genes  n_tf                                Category  \\\n",
       "name                                                                          \n",
       "AllR/AraC/FucR  18.0       18     3               Carbon Source Utilization   \n",
       "ArcA-1          33.0       50     1                       Energy Metabolism   \n",
       "ArcA-2          21.0       25     1                       Energy Metabolism   \n",
       "ArgR            12.0       13     1  Amino Acid and Nucleotide Biosynthesis   \n",
       "AtoC             4.0        6     1                Miscellaneous Metabolism   \n",
       "\n",
       "                threshold  \n",
       "name                       \n",
       "AllR/AraC/FucR   0.086996  \n",
       "ArcA-1           0.058051  \n",
       "ArcA-2           0.081113  \n",
       "ArgR             0.080441  \n",
       "AtoC             0.105756  "
      ]
     },
     "execution_count": 12,
     "metadata": {},
     "output_type": "execute_result"
    }
   ],
   "source": [
    "imodulon_table = example_data.imodulon_table\n",
    "imodulon_table.head()"
   ]
  },
  {
   "cell_type": "markdown",
   "metadata": {},
   "source": [
    "The tables can be loaded into the IcaData object as either filenames or as a Pandas DataFrame"
   ]
  },
  {
   "cell_type": "code",
   "execution_count": 13,
   "metadata": {},
   "outputs": [],
   "source": [
    "ica_data.gene_table = gene_table\n",
    "ica_data.sample_table = sample_table\n",
    "ica_data.imodulon_table = imodulon_table"
   ]
  },
  {
   "cell_type": "code",
   "execution_count": 14,
   "metadata": {},
   "outputs": [
    {
     "data": {
      "text/html": [
       "<div>\n",
       "<style scoped>\n",
       "    .dataframe tbody tr th:only-of-type {\n",
       "        vertical-align: middle;\n",
       "    }\n",
       "\n",
       "    .dataframe tbody tr th {\n",
       "        vertical-align: top;\n",
       "    }\n",
       "\n",
       "    .dataframe thead th {\n",
       "        text-align: right;\n",
       "    }\n",
       "</style>\n",
       "<table border=\"1\" class=\"dataframe\">\n",
       "  <thead>\n",
       "    <tr style=\"text-align: right;\">\n",
       "      <th></th>\n",
       "      <th>Study</th>\n",
       "      <th>project</th>\n",
       "      <th>condition</th>\n",
       "      <th>Replicate #</th>\n",
       "      <th>Strain Description</th>\n",
       "      <th>Strain</th>\n",
       "      <th>Base Media</th>\n",
       "      <th>Carbon Source (g/L)</th>\n",
       "      <th>Nitrogen Source (g/L)</th>\n",
       "      <th>Electron Acceptor</th>\n",
       "      <th>...</th>\n",
       "      <th>Growth Rate (1/hr)</th>\n",
       "      <th>Evolved Sample</th>\n",
       "      <th>Isolate Type</th>\n",
       "      <th>Sequencing Machine</th>\n",
       "      <th>ALEdb sample</th>\n",
       "      <th>Additional Details</th>\n",
       "      <th>Biological Replicates</th>\n",
       "      <th>Alignment</th>\n",
       "      <th>DOI</th>\n",
       "      <th>GEO</th>\n",
       "    </tr>\n",
       "  </thead>\n",
       "  <tbody>\n",
       "    <tr>\n",
       "      <th>control__wt_glc__1</th>\n",
       "      <td>Control</td>\n",
       "      <td>control</td>\n",
       "      <td>wt_glc</td>\n",
       "      <td>1</td>\n",
       "      <td>Escherichia coli K-12 MG1655</td>\n",
       "      <td>MG1655</td>\n",
       "      <td>M9</td>\n",
       "      <td>glucose(2)</td>\n",
       "      <td>NH4Cl(1)</td>\n",
       "      <td>O2</td>\n",
       "      <td>...</td>\n",
       "      <td>NaN</td>\n",
       "      <td>No</td>\n",
       "      <td>NaN</td>\n",
       "      <td>MiSeq</td>\n",
       "      <td>NaN</td>\n",
       "      <td>NaN</td>\n",
       "      <td>2</td>\n",
       "      <td>94.33</td>\n",
       "      <td>doi.org/10.1101/080929</td>\n",
       "      <td>GSE65643</td>\n",
       "    </tr>\n",
       "    <tr>\n",
       "      <th>control__wt_glc__2</th>\n",
       "      <td>Control</td>\n",
       "      <td>control</td>\n",
       "      <td>wt_glc</td>\n",
       "      <td>2</td>\n",
       "      <td>Escherichia coli K-12 MG1655</td>\n",
       "      <td>MG1655</td>\n",
       "      <td>M9</td>\n",
       "      <td>glucose(2)</td>\n",
       "      <td>NH4Cl(1)</td>\n",
       "      <td>O2</td>\n",
       "      <td>...</td>\n",
       "      <td>NaN</td>\n",
       "      <td>No</td>\n",
       "      <td>NaN</td>\n",
       "      <td>MiSeq</td>\n",
       "      <td>NaN</td>\n",
       "      <td>NaN</td>\n",
       "      <td>2</td>\n",
       "      <td>94.24</td>\n",
       "      <td>doi.org/10.1101/080929</td>\n",
       "      <td>GSE65643</td>\n",
       "    </tr>\n",
       "    <tr>\n",
       "      <th>fur__wt_dpd__1</th>\n",
       "      <td>Fur</td>\n",
       "      <td>fur</td>\n",
       "      <td>wt_dpd</td>\n",
       "      <td>1</td>\n",
       "      <td>Escherichia coli K-12 MG1655</td>\n",
       "      <td>MG1655</td>\n",
       "      <td>M9</td>\n",
       "      <td>glucose(2)</td>\n",
       "      <td>NH4Cl(1)</td>\n",
       "      <td>O2</td>\n",
       "      <td>...</td>\n",
       "      <td>0.00</td>\n",
       "      <td>No</td>\n",
       "      <td>NaN</td>\n",
       "      <td>MiSeq</td>\n",
       "      <td>NaN</td>\n",
       "      <td>NaN</td>\n",
       "      <td>2</td>\n",
       "      <td>98.04</td>\n",
       "      <td>doi.org/10.1038/ncomms5910</td>\n",
       "      <td>GSE54900</td>\n",
       "    </tr>\n",
       "    <tr>\n",
       "      <th>fur__wt_dpd__2</th>\n",
       "      <td>Fur</td>\n",
       "      <td>fur</td>\n",
       "      <td>wt_dpd</td>\n",
       "      <td>2</td>\n",
       "      <td>Escherichia coli K-12 MG1655</td>\n",
       "      <td>MG1655</td>\n",
       "      <td>M9</td>\n",
       "      <td>glucose(2)</td>\n",
       "      <td>NH4Cl(1)</td>\n",
       "      <td>O2</td>\n",
       "      <td>...</td>\n",
       "      <td>0.00</td>\n",
       "      <td>No</td>\n",
       "      <td>NaN</td>\n",
       "      <td>MiSeq</td>\n",
       "      <td>NaN</td>\n",
       "      <td>NaN</td>\n",
       "      <td>2</td>\n",
       "      <td>98.30</td>\n",
       "      <td>doi.org/10.1038/ncomms5910</td>\n",
       "      <td>GSE54900</td>\n",
       "    </tr>\n",
       "    <tr>\n",
       "      <th>fur__wt_fe__1</th>\n",
       "      <td>Fur</td>\n",
       "      <td>fur</td>\n",
       "      <td>wt_fe</td>\n",
       "      <td>1</td>\n",
       "      <td>Escherichia coli K-12 MG1655</td>\n",
       "      <td>MG1655</td>\n",
       "      <td>M9</td>\n",
       "      <td>glucose(2)</td>\n",
       "      <td>NH4Cl(1)</td>\n",
       "      <td>O2</td>\n",
       "      <td>...</td>\n",
       "      <td>1.06</td>\n",
       "      <td>No</td>\n",
       "      <td>NaN</td>\n",
       "      <td>MiSeq</td>\n",
       "      <td>NaN</td>\n",
       "      <td>NaN</td>\n",
       "      <td>2</td>\n",
       "      <td>93.35</td>\n",
       "      <td>doi.org/10.1038/ncomms5910</td>\n",
       "      <td>GSE54900</td>\n",
       "    </tr>\n",
       "  </tbody>\n",
       "</table>\n",
       "<p>5 rows × 26 columns</p>\n",
       "</div>"
      ],
      "text/plain": [
       "                      Study  project condition  Replicate #  \\\n",
       "control__wt_glc__1  Control  control    wt_glc            1   \n",
       "control__wt_glc__2  Control  control    wt_glc            2   \n",
       "fur__wt_dpd__1          Fur      fur    wt_dpd            1   \n",
       "fur__wt_dpd__2          Fur      fur    wt_dpd            2   \n",
       "fur__wt_fe__1           Fur      fur     wt_fe            1   \n",
       "\n",
       "                              Strain Description  Strain Base Media  \\\n",
       "control__wt_glc__1  Escherichia coli K-12 MG1655  MG1655         M9   \n",
       "control__wt_glc__2  Escherichia coli K-12 MG1655  MG1655         M9   \n",
       "fur__wt_dpd__1      Escherichia coli K-12 MG1655  MG1655         M9   \n",
       "fur__wt_dpd__2      Escherichia coli K-12 MG1655  MG1655         M9   \n",
       "fur__wt_fe__1       Escherichia coli K-12 MG1655  MG1655         M9   \n",
       "\n",
       "                   Carbon Source (g/L) Nitrogen Source (g/L)  \\\n",
       "control__wt_glc__1          glucose(2)              NH4Cl(1)   \n",
       "control__wt_glc__2          glucose(2)              NH4Cl(1)   \n",
       "fur__wt_dpd__1              glucose(2)              NH4Cl(1)   \n",
       "fur__wt_dpd__2              glucose(2)              NH4Cl(1)   \n",
       "fur__wt_fe__1               glucose(2)              NH4Cl(1)   \n",
       "\n",
       "                   Electron Acceptor  ... Growth Rate (1/hr) Evolved Sample  \\\n",
       "control__wt_glc__1                O2  ...                NaN             No   \n",
       "control__wt_glc__2                O2  ...                NaN             No   \n",
       "fur__wt_dpd__1                    O2  ...               0.00             No   \n",
       "fur__wt_dpd__2                    O2  ...               0.00             No   \n",
       "fur__wt_fe__1                     O2  ...               1.06             No   \n",
       "\n",
       "                    Isolate Type  Sequencing Machine ALEdb sample  \\\n",
       "control__wt_glc__1           NaN               MiSeq          NaN   \n",
       "control__wt_glc__2           NaN               MiSeq          NaN   \n",
       "fur__wt_dpd__1               NaN               MiSeq          NaN   \n",
       "fur__wt_dpd__2               NaN               MiSeq          NaN   \n",
       "fur__wt_fe__1                NaN               MiSeq          NaN   \n",
       "\n",
       "                   Additional Details  Biological Replicates Alignment  \\\n",
       "control__wt_glc__1                NaN                      2     94.33   \n",
       "control__wt_glc__2                NaN                      2     94.24   \n",
       "fur__wt_dpd__1                    NaN                      2     98.04   \n",
       "fur__wt_dpd__2                    NaN                      2     98.30   \n",
       "fur__wt_fe__1                     NaN                      2     93.35   \n",
       "\n",
       "                                           DOI       GEO  \n",
       "control__wt_glc__1      doi.org/10.1101/080929  GSE65643  \n",
       "control__wt_glc__2      doi.org/10.1101/080929  GSE65643  \n",
       "fur__wt_dpd__1      doi.org/10.1038/ncomms5910  GSE54900  \n",
       "fur__wt_dpd__2      doi.org/10.1038/ncomms5910  GSE54900  \n",
       "fur__wt_fe__1       doi.org/10.1038/ncomms5910  GSE54900  \n",
       "\n",
       "[5 rows x 26 columns]"
      ]
     },
     "execution_count": 14,
     "metadata": {},
     "output_type": "execute_result"
    }
   ],
   "source": [
    "ica_data.sample_table.head()"
   ]
  },
  {
   "cell_type": "code",
   "execution_count": 15,
   "metadata": {},
   "outputs": [
    {
     "data": {
      "text/html": [
       "<div>\n",
       "<style scoped>\n",
       "    .dataframe tbody tr th:only-of-type {\n",
       "        vertical-align: middle;\n",
       "    }\n",
       "\n",
       "    .dataframe tbody tr th {\n",
       "        vertical-align: top;\n",
       "    }\n",
       "\n",
       "    .dataframe thead th {\n",
       "        text-align: right;\n",
       "    }\n",
       "</style>\n",
       "<table border=\"1\" class=\"dataframe\">\n",
       "  <thead>\n",
       "    <tr style=\"text-align: right;\">\n",
       "      <th></th>\n",
       "      <th>start</th>\n",
       "      <th>end</th>\n",
       "      <th>strand</th>\n",
       "      <th>gene_name</th>\n",
       "      <th>length</th>\n",
       "      <th>operon</th>\n",
       "      <th>COG</th>\n",
       "      <th>accession</th>\n",
       "    </tr>\n",
       "  </thead>\n",
       "  <tbody>\n",
       "    <tr>\n",
       "      <th>b0002</th>\n",
       "      <td>336</td>\n",
       "      <td>2799</td>\n",
       "      <td>+</td>\n",
       "      <td>thrA</td>\n",
       "      <td>2463</td>\n",
       "      <td>thrLABC</td>\n",
       "      <td>Amino acid transport and metabolism</td>\n",
       "      <td>NC_000913.3</td>\n",
       "    </tr>\n",
       "    <tr>\n",
       "      <th>b0003</th>\n",
       "      <td>2800</td>\n",
       "      <td>3733</td>\n",
       "      <td>+</td>\n",
       "      <td>thrB</td>\n",
       "      <td>933</td>\n",
       "      <td>thrLABC</td>\n",
       "      <td>Amino acid transport and metabolism</td>\n",
       "      <td>NC_000913.3</td>\n",
       "    </tr>\n",
       "    <tr>\n",
       "      <th>b0004</th>\n",
       "      <td>3733</td>\n",
       "      <td>5020</td>\n",
       "      <td>+</td>\n",
       "      <td>thrC</td>\n",
       "      <td>1287</td>\n",
       "      <td>thrLABC</td>\n",
       "      <td>Amino acid transport and metabolism</td>\n",
       "      <td>NC_000913.3</td>\n",
       "    </tr>\n",
       "    <tr>\n",
       "      <th>b0005</th>\n",
       "      <td>5233</td>\n",
       "      <td>5530</td>\n",
       "      <td>+</td>\n",
       "      <td>yaaX</td>\n",
       "      <td>297</td>\n",
       "      <td>yaaX</td>\n",
       "      <td>Function unknown</td>\n",
       "      <td>NC_000913.3</td>\n",
       "    </tr>\n",
       "    <tr>\n",
       "      <th>b0006</th>\n",
       "      <td>5682</td>\n",
       "      <td>6459</td>\n",
       "      <td>-</td>\n",
       "      <td>yaaA</td>\n",
       "      <td>777</td>\n",
       "      <td>yaaA</td>\n",
       "      <td>Function unknown</td>\n",
       "      <td>NC_000913.3</td>\n",
       "    </tr>\n",
       "  </tbody>\n",
       "</table>\n",
       "</div>"
      ],
      "text/plain": [
       "       start   end strand gene_name  length   operon  \\\n",
       "b0002    336  2799      +      thrA    2463  thrLABC   \n",
       "b0003   2800  3733      +      thrB     933  thrLABC   \n",
       "b0004   3733  5020      +      thrC    1287  thrLABC   \n",
       "b0005   5233  5530      +      yaaX     297     yaaX   \n",
       "b0006   5682  6459      -      yaaA     777     yaaA   \n",
       "\n",
       "                                       COG    accession  \n",
       "b0002  Amino acid transport and metabolism  NC_000913.3  \n",
       "b0003  Amino acid transport and metabolism  NC_000913.3  \n",
       "b0004  Amino acid transport and metabolism  NC_000913.3  \n",
       "b0005                     Function unknown  NC_000913.3  \n",
       "b0006                     Function unknown  NC_000913.3  "
      ]
     },
     "execution_count": 15,
     "metadata": {},
     "output_type": "execute_result"
    }
   ],
   "source": [
    "ica_data.gene_table.head()"
   ]
  },
  {
   "cell_type": "code",
   "execution_count": 16,
   "metadata": {},
   "outputs": [
    {
     "data": {
      "text/html": [
       "<div>\n",
       "<style scoped>\n",
       "    .dataframe tbody tr th:only-of-type {\n",
       "        vertical-align: middle;\n",
       "    }\n",
       "\n",
       "    .dataframe tbody tr th {\n",
       "        vertical-align: top;\n",
       "    }\n",
       "\n",
       "    .dataframe thead th {\n",
       "        text-align: right;\n",
       "    }\n",
       "</style>\n",
       "<table border=\"1\" class=\"dataframe\">\n",
       "  <thead>\n",
       "    <tr style=\"text-align: right;\">\n",
       "      <th></th>\n",
       "      <th>regulator</th>\n",
       "      <th>f1score</th>\n",
       "      <th>pvalue</th>\n",
       "      <th>precision</th>\n",
       "      <th>recall</th>\n",
       "      <th>TP</th>\n",
       "      <th>n_genes</th>\n",
       "      <th>n_tf</th>\n",
       "      <th>Category</th>\n",
       "      <th>threshold</th>\n",
       "    </tr>\n",
       "  </thead>\n",
       "  <tbody>\n",
       "    <tr>\n",
       "      <th>AllR/AraC/FucR</th>\n",
       "      <td>allR/araC/fucR</td>\n",
       "      <td>0.750000</td>\n",
       "      <td>1.190000e-41</td>\n",
       "      <td>1.000000</td>\n",
       "      <td>0.600000</td>\n",
       "      <td>18.0</td>\n",
       "      <td>18</td>\n",
       "      <td>3</td>\n",
       "      <td>Carbon Source Utilization</td>\n",
       "      <td>0.086996</td>\n",
       "    </tr>\n",
       "    <tr>\n",
       "      <th>ArcA-1</th>\n",
       "      <td>arcA</td>\n",
       "      <td>0.130952</td>\n",
       "      <td>6.420000e-20</td>\n",
       "      <td>0.660000</td>\n",
       "      <td>0.072687</td>\n",
       "      <td>33.0</td>\n",
       "      <td>50</td>\n",
       "      <td>1</td>\n",
       "      <td>Energy Metabolism</td>\n",
       "      <td>0.058051</td>\n",
       "    </tr>\n",
       "    <tr>\n",
       "      <th>ArcA-2</th>\n",
       "      <td>arcA</td>\n",
       "      <td>0.087683</td>\n",
       "      <td>1.150000e-16</td>\n",
       "      <td>0.840000</td>\n",
       "      <td>0.046256</td>\n",
       "      <td>21.0</td>\n",
       "      <td>25</td>\n",
       "      <td>1</td>\n",
       "      <td>Energy Metabolism</td>\n",
       "      <td>0.081113</td>\n",
       "    </tr>\n",
       "    <tr>\n",
       "      <th>ArgR</th>\n",
       "      <td>argR</td>\n",
       "      <td>0.177778</td>\n",
       "      <td>6.030000e-18</td>\n",
       "      <td>0.923077</td>\n",
       "      <td>0.098361</td>\n",
       "      <td>12.0</td>\n",
       "      <td>13</td>\n",
       "      <td>1</td>\n",
       "      <td>Amino Acid and Nucleotide Biosynthesis</td>\n",
       "      <td>0.080441</td>\n",
       "    </tr>\n",
       "    <tr>\n",
       "      <th>AtoC</th>\n",
       "      <td>atoC</td>\n",
       "      <td>0.800000</td>\n",
       "      <td>1.520000e-12</td>\n",
       "      <td>0.666667</td>\n",
       "      <td>1.000000</td>\n",
       "      <td>4.0</td>\n",
       "      <td>6</td>\n",
       "      <td>1</td>\n",
       "      <td>Miscellaneous Metabolism</td>\n",
       "      <td>0.105756</td>\n",
       "    </tr>\n",
       "  </tbody>\n",
       "</table>\n",
       "</div>"
      ],
      "text/plain": [
       "                     regulator   f1score        pvalue  precision    recall  \\\n",
       "AllR/AraC/FucR  allR/araC/fucR  0.750000  1.190000e-41   1.000000  0.600000   \n",
       "ArcA-1                    arcA  0.130952  6.420000e-20   0.660000  0.072687   \n",
       "ArcA-2                    arcA  0.087683  1.150000e-16   0.840000  0.046256   \n",
       "ArgR                      argR  0.177778  6.030000e-18   0.923077  0.098361   \n",
       "AtoC                      atoC  0.800000  1.520000e-12   0.666667  1.000000   \n",
       "\n",
       "                  TP  n_genes  n_tf                                Category  \\\n",
       "AllR/AraC/FucR  18.0       18     3               Carbon Source Utilization   \n",
       "ArcA-1          33.0       50     1                       Energy Metabolism   \n",
       "ArcA-2          21.0       25     1                       Energy Metabolism   \n",
       "ArgR            12.0       13     1  Amino Acid and Nucleotide Biosynthesis   \n",
       "AtoC             4.0        6     1                Miscellaneous Metabolism   \n",
       "\n",
       "                threshold  \n",
       "AllR/AraC/FucR   0.086996  \n",
       "ArcA-1           0.058051  \n",
       "ArcA-2           0.081113  \n",
       "ArgR             0.080441  \n",
       "AtoC             0.105756  "
      ]
     },
     "execution_count": 16,
     "metadata": {},
     "output_type": "execute_result"
    }
   ],
   "source": [
    "ica_data.imodulon_table.head()"
   ]
  },
  {
   "cell_type": "markdown",
   "metadata": {},
   "source": [
    "## Converting between gene names and locus tags"
   ]
  },
  {
   "cell_type": "code",
   "execution_count": 17,
   "metadata": {},
   "outputs": [
    {
     "data": {
      "text/plain": [
       "'thrA'"
      ]
     },
     "execution_count": 17,
     "metadata": {},
     "output_type": "execute_result"
    }
   ],
   "source": [
    "ica_data.num2name('b0002')"
   ]
  },
  {
   "cell_type": "code",
   "execution_count": 18,
   "metadata": {},
   "outputs": [
    {
     "data": {
      "text/plain": [
       "'b0002'"
      ]
     },
     "execution_count": 18,
     "metadata": {},
     "output_type": "execute_result"
    }
   ],
   "source": [
    "ica_data.name2num('thrA')"
   ]
  },
  {
   "cell_type": "markdown",
   "metadata": {},
   "source": [
    "## Inspecting iModulons\n",
    "\n",
    "view_imodulon shows the information about each gene in the iModulon. Most information is retrieved from the gene_table, but the regulator column comes from the trn."
   ]
  },
  {
   "cell_type": "code",
   "execution_count": 19,
   "metadata": {},
   "outputs": [
    {
     "data": {
      "text/html": [
       "<div>\n",
       "<style scoped>\n",
       "    .dataframe tbody tr th:only-of-type {\n",
       "        vertical-align: middle;\n",
       "    }\n",
       "\n",
       "    .dataframe tbody tr th {\n",
       "        vertical-align: top;\n",
       "    }\n",
       "\n",
       "    .dataframe thead th {\n",
       "        text-align: right;\n",
       "    }\n",
       "</style>\n",
       "<table border=\"1\" class=\"dataframe\">\n",
       "  <thead>\n",
       "    <tr style=\"text-align: right;\">\n",
       "      <th></th>\n",
       "      <th>gene_weight</th>\n",
       "      <th>start</th>\n",
       "      <th>end</th>\n",
       "      <th>strand</th>\n",
       "      <th>gene_name</th>\n",
       "      <th>length</th>\n",
       "      <th>operon</th>\n",
       "      <th>COG</th>\n",
       "      <th>accession</th>\n",
       "    </tr>\n",
       "  </thead>\n",
       "  <tbody>\n",
       "    <tr>\n",
       "      <th>b2239</th>\n",
       "      <td>0.211384</td>\n",
       "      <td>2349934</td>\n",
       "      <td>2351011</td>\n",
       "      <td>-</td>\n",
       "      <td>glpQ</td>\n",
       "      <td>1077</td>\n",
       "      <td>glpTQ</td>\n",
       "      <td>Energy production and conversion</td>\n",
       "      <td>NC_000913.3</td>\n",
       "    </tr>\n",
       "    <tr>\n",
       "      <th>b2240</th>\n",
       "      <td>0.306134</td>\n",
       "      <td>2351015</td>\n",
       "      <td>2352374</td>\n",
       "      <td>-</td>\n",
       "      <td>glpT</td>\n",
       "      <td>1359</td>\n",
       "      <td>glpTQ</td>\n",
       "      <td>Carbohydrate transport and metabolism</td>\n",
       "      <td>NC_000913.3</td>\n",
       "    </tr>\n",
       "    <tr>\n",
       "      <th>b2241</th>\n",
       "      <td>0.375662</td>\n",
       "      <td>2352646</td>\n",
       "      <td>2354275</td>\n",
       "      <td>+</td>\n",
       "      <td>glpA</td>\n",
       "      <td>1629</td>\n",
       "      <td>glpABC</td>\n",
       "      <td>Energy production and conversion</td>\n",
       "      <td>NC_000913.3</td>\n",
       "    </tr>\n",
       "    <tr>\n",
       "      <th>b2242</th>\n",
       "      <td>0.328961</td>\n",
       "      <td>2354264</td>\n",
       "      <td>2355524</td>\n",
       "      <td>+</td>\n",
       "      <td>glpB</td>\n",
       "      <td>1260</td>\n",
       "      <td>glpABC</td>\n",
       "      <td>Amino acid transport and metabolism</td>\n",
       "      <td>NC_000913.3</td>\n",
       "    </tr>\n",
       "    <tr>\n",
       "      <th>b2243</th>\n",
       "      <td>0.315752</td>\n",
       "      <td>2355520</td>\n",
       "      <td>2356711</td>\n",
       "      <td>+</td>\n",
       "      <td>glpC</td>\n",
       "      <td>1191</td>\n",
       "      <td>glpABC</td>\n",
       "      <td>Energy production and conversion</td>\n",
       "      <td>NC_000913.3</td>\n",
       "    </tr>\n",
       "    <tr>\n",
       "      <th>b3426</th>\n",
       "      <td>0.350034</td>\n",
       "      <td>3562012</td>\n",
       "      <td>3563518</td>\n",
       "      <td>+</td>\n",
       "      <td>glpD</td>\n",
       "      <td>1506</td>\n",
       "      <td>glpD</td>\n",
       "      <td>Energy production and conversion</td>\n",
       "      <td>NC_000913.3</td>\n",
       "    </tr>\n",
       "    <tr>\n",
       "      <th>b3926</th>\n",
       "      <td>0.290235</td>\n",
       "      <td>4115713</td>\n",
       "      <td>4117222</td>\n",
       "      <td>-</td>\n",
       "      <td>glpK</td>\n",
       "      <td>1509</td>\n",
       "      <td>glpFKX</td>\n",
       "      <td>Energy production and conversion</td>\n",
       "      <td>NC_000913.3</td>\n",
       "    </tr>\n",
       "    <tr>\n",
       "      <th>b3927</th>\n",
       "      <td>0.312307</td>\n",
       "      <td>4117244</td>\n",
       "      <td>4118090</td>\n",
       "      <td>-</td>\n",
       "      <td>glpF</td>\n",
       "      <td>846</td>\n",
       "      <td>glpFKX</td>\n",
       "      <td>Carbohydrate transport and metabolism</td>\n",
       "      <td>NC_000913.3</td>\n",
       "    </tr>\n",
       "  </tbody>\n",
       "</table>\n",
       "</div>"
      ],
      "text/plain": [
       "       gene_weight    start      end strand gene_name  length  operon  \\\n",
       "b2239     0.211384  2349934  2351011      -      glpQ    1077   glpTQ   \n",
       "b2240     0.306134  2351015  2352374      -      glpT    1359   glpTQ   \n",
       "b2241     0.375662  2352646  2354275      +      glpA    1629  glpABC   \n",
       "b2242     0.328961  2354264  2355524      +      glpB    1260  glpABC   \n",
       "b2243     0.315752  2355520  2356711      +      glpC    1191  glpABC   \n",
       "b3426     0.350034  3562012  3563518      +      glpD    1506    glpD   \n",
       "b3926     0.290235  4115713  4117222      -      glpK    1509  glpFKX   \n",
       "b3927     0.312307  4117244  4118090      -      glpF     846  glpFKX   \n",
       "\n",
       "                                         COG    accession  \n",
       "b2239       Energy production and conversion  NC_000913.3  \n",
       "b2240  Carbohydrate transport and metabolism  NC_000913.3  \n",
       "b2241       Energy production and conversion  NC_000913.3  \n",
       "b2242    Amino acid transport and metabolism  NC_000913.3  \n",
       "b2243       Energy production and conversion  NC_000913.3  \n",
       "b3426       Energy production and conversion  NC_000913.3  \n",
       "b3926       Energy production and conversion  NC_000913.3  \n",
       "b3927  Carbohydrate transport and metabolism  NC_000913.3  "
      ]
     },
     "execution_count": 19,
     "metadata": {},
     "output_type": "execute_result"
    }
   ],
   "source": [
    "ica_data.view_imodulon('GlpR')"
   ]
  },
  {
   "cell_type": "markdown",
   "metadata": {},
   "source": [
    "## Searching for genes in iModulons\n",
    "\n",
    "To find which iModulons contain a specific gene, use the imodulons_with method."
   ]
  },
  {
   "cell_type": "code",
   "execution_count": 20,
   "metadata": {},
   "outputs": [
    {
     "data": {
      "text/plain": [
       "['GlpR']"
      ]
     },
     "execution_count": 20,
     "metadata": {},
     "output_type": "execute_result"
    }
   ],
   "source": [
    "ica_data.imodulons_with('b2239')"
   ]
  },
  {
   "cell_type": "markdown",
   "metadata": {},
   "source": [
    "If the gene_table contains a gene_name columns, this function will work with either the locus tag or the gene name."
   ]
  },
  {
   "cell_type": "code",
   "execution_count": 21,
   "metadata": {
    "scrolled": true
   },
   "outputs": [
    {
     "data": {
      "text/plain": [
       "['PurR-2']"
      ]
     },
     "execution_count": 21,
     "metadata": {},
     "output_type": "execute_result"
    }
   ],
   "source": [
    "ica_data.imodulons_with('carA')"
   ]
  },
  {
   "cell_type": "markdown",
   "metadata": {},
   "source": [
    "## Working with the TRN"
   ]
  },
  {
   "cell_type": "markdown",
   "metadata": {},
   "source": [
    "Adding the transcriptional regulatory network (TRN) to the IcaData object enables automated calculation of regulon enrichments. Each row of the TRN file represents a regulatory interaction. The TRN must contain the following columns:\n",
    "\n",
    "-regulator: Name of the regulator (/ or + characters will be converted to ;)\n",
    "\n",
    "-gene_id: Locus tag of the target gene (must be in ica_data.gene_names)\n",
    "\n",
    "\n",
    "\n",
    "The following columns are optional, but are helpful to have:\n",
    "\n",
    "-regulator_id - Locus tag of regulator\n",
    "\n",
    "-gene_name - Name of gene (can automatically update this using name2num)\n",
    "\n",
    "-direction - Direction of regulation (+ for activation, - for repression, ? or NaN for unknown)\n",
    "\n",
    "-evidence - Evidence of regulation (e.g. ChIP-exo, qRT-PCR, SELEX, Motif search)\n",
    "\n",
    "-PMID - Reference for regulatory interaction"
   ]
  },
  {
   "cell_type": "code",
   "execution_count": 22,
   "metadata": {},
   "outputs": [
    {
     "data": {
      "text/html": [
       "<div>\n",
       "<style scoped>\n",
       "    .dataframe tbody tr th:only-of-type {\n",
       "        vertical-align: middle;\n",
       "    }\n",
       "\n",
       "    .dataframe tbody tr th {\n",
       "        vertical-align: top;\n",
       "    }\n",
       "\n",
       "    .dataframe thead th {\n",
       "        text-align: right;\n",
       "    }\n",
       "</style>\n",
       "<table border=\"1\" class=\"dataframe\">\n",
       "  <thead>\n",
       "    <tr style=\"text-align: right;\">\n",
       "      <th></th>\n",
       "      <th>regulator</th>\n",
       "      <th>gene_id</th>\n",
       "      <th>effect</th>\n",
       "    </tr>\n",
       "  </thead>\n",
       "  <tbody>\n",
       "    <tr>\n",
       "      <th>0</th>\n",
       "      <td>FMN</td>\n",
       "      <td>b3041</td>\n",
       "      <td>-</td>\n",
       "    </tr>\n",
       "    <tr>\n",
       "      <th>1</th>\n",
       "      <td>L-tryptophan</td>\n",
       "      <td>b3708</td>\n",
       "      <td>+</td>\n",
       "    </tr>\n",
       "    <tr>\n",
       "      <th>2</th>\n",
       "      <td>L-tryptophan</td>\n",
       "      <td>b3709</td>\n",
       "      <td>+</td>\n",
       "    </tr>\n",
       "    <tr>\n",
       "      <th>3</th>\n",
       "      <td>TPP</td>\n",
       "      <td>b0066</td>\n",
       "      <td>-</td>\n",
       "    </tr>\n",
       "    <tr>\n",
       "      <th>4</th>\n",
       "      <td>TPP</td>\n",
       "      <td>b0067</td>\n",
       "      <td>-</td>\n",
       "    </tr>\n",
       "  </tbody>\n",
       "</table>\n",
       "</div>"
      ],
      "text/plain": [
       "      regulator gene_id effect\n",
       "0           FMN   b3041      -\n",
       "1  L-tryptophan   b3708      +\n",
       "2  L-tryptophan   b3709      +\n",
       "3           TPP   b0066      -\n",
       "4           TPP   b0067      -"
      ]
     },
     "execution_count": 22,
     "metadata": {},
     "output_type": "execute_result"
    }
   ],
   "source": [
    "trn = example_data.trn\n",
    "trn.head()"
   ]
  },
  {
   "cell_type": "markdown",
   "metadata": {},
   "source": [
    "Again, this table can be passed in as either a filename or a Pandas DataFrame."
   ]
  },
  {
   "cell_type": "code",
   "execution_count": 23,
   "metadata": {},
   "outputs": [
    {
     "data": {
      "text/html": [
       "<div>\n",
       "<style scoped>\n",
       "    .dataframe tbody tr th:only-of-type {\n",
       "        vertical-align: middle;\n",
       "    }\n",
       "\n",
       "    .dataframe tbody tr th {\n",
       "        vertical-align: top;\n",
       "    }\n",
       "\n",
       "    .dataframe thead th {\n",
       "        text-align: right;\n",
       "    }\n",
       "</style>\n",
       "<table border=\"1\" class=\"dataframe\">\n",
       "  <thead>\n",
       "    <tr style=\"text-align: right;\">\n",
       "      <th></th>\n",
       "      <th>regulator</th>\n",
       "      <th>gene_id</th>\n",
       "      <th>effect</th>\n",
       "    </tr>\n",
       "  </thead>\n",
       "  <tbody>\n",
       "    <tr>\n",
       "      <th>0</th>\n",
       "      <td>FMN</td>\n",
       "      <td>b3041</td>\n",
       "      <td>-</td>\n",
       "    </tr>\n",
       "    <tr>\n",
       "      <th>1</th>\n",
       "      <td>L-tryptophan</td>\n",
       "      <td>b3708</td>\n",
       "      <td>+</td>\n",
       "    </tr>\n",
       "    <tr>\n",
       "      <th>2</th>\n",
       "      <td>L-tryptophan</td>\n",
       "      <td>b3709</td>\n",
       "      <td>+</td>\n",
       "    </tr>\n",
       "    <tr>\n",
       "      <th>3</th>\n",
       "      <td>TPP</td>\n",
       "      <td>b0066</td>\n",
       "      <td>-</td>\n",
       "    </tr>\n",
       "    <tr>\n",
       "      <th>4</th>\n",
       "      <td>TPP</td>\n",
       "      <td>b0067</td>\n",
       "      <td>-</td>\n",
       "    </tr>\n",
       "  </tbody>\n",
       "</table>\n",
       "</div>"
      ],
      "text/plain": [
       "      regulator gene_id effect\n",
       "0           FMN   b3041      -\n",
       "1  L-tryptophan   b3708      +\n",
       "2  L-tryptophan   b3709      +\n",
       "3           TPP   b0066      -\n",
       "4           TPP   b0067      -"
      ]
     },
     "execution_count": 23,
     "metadata": {},
     "output_type": "execute_result"
    }
   ],
   "source": [
    "ica_data.trn = trn\n",
    "ica_data.trn.head()"
   ]
  },
  {
   "cell_type": "markdown",
   "metadata": {},
   "source": [
    "## Gene Enrichment Analysis"
   ]
  },
  {
   "cell_type": "markdown",
   "metadata": {},
   "source": [
    "### General Enrichment Functions\n",
    "\n",
    "To perform a basic enrichment test between two gene sets, use the ``compute_enrichment`` function.\n",
    "Optional arguments:\n",
    "\n",
    "* ``label``: Label for your target gene set (e.g. regulator name or GO term)"
   ]
  },
  {
   "cell_type": "code",
   "execution_count": 24,
   "metadata": {},
   "outputs": [],
   "source": [
    "from pymodulon.enrichment import *"
   ]
  },
  {
   "cell_type": "code",
   "execution_count": 25,
   "metadata": {},
   "outputs": [],
   "source": [
    "gene_set = ['b0002','b0003','b0004'] # e.g. an iModulon or other gene set\n",
    "target_genes = ['b0002','b0005','b0007'] # e.g. a regulon or genes in a COG category\n",
    "all_genes = ica_data.gene_names # List of all genes in your expression dataset"
   ]
  },
  {
   "cell_type": "code",
   "execution_count": 26,
   "metadata": {},
   "outputs": [
    {
     "data": {
      "text/plain": [
       "pvalue             0.002293\n",
       "precision          0.333333\n",
       "recall             0.333333\n",
       "f1score            0.333333\n",
       "TP                 1.000000\n",
       "target_set_size    3.000000\n",
       "gene_set_size      3.000000\n",
       "dtype: float64"
      ]
     },
     "execution_count": 26,
     "metadata": {},
     "output_type": "execute_result"
    }
   ],
   "source": [
    "compute_enrichment(gene_set,target_genes,all_genes)"
   ]
  },
  {
   "cell_type": "markdown",
   "metadata": {},
   "source": [
    "To perform an enrichment test against a regulon in a TRN table, use the ``compute_regulon`` function."
   ]
  },
  {
   "cell_type": "code",
   "execution_count": 27,
   "metadata": {},
   "outputs": [
    {
     "data": {
      "text/plain": [
       "pvalue             0.000131\n",
       "precision          1.000000\n",
       "recall             0.015000\n",
       "f1score            0.029557\n",
       "TP                 3.000000\n",
       "regulon_size     200.000000\n",
       "gene_set_size      3.000000\n",
       "n_regs             1.000000\n",
       "Name: lrp, dtype: float64"
      ]
     },
     "execution_count": 27,
     "metadata": {},
     "output_type": "execute_result"
    }
   ],
   "source": [
    "compute_regulon_enrichment(gene_set,'lrp',all_genes,trn) "
   ]
  },
  {
   "cell_type": "markdown",
   "metadata": {},
   "source": [
    "To perform an enrichment against all regulons in a TRN table, use the ``compute_trn_enrichment`` function. This function includes false detection correction using the Benjamini-Hochberg procedure to compute [Q-values](https://en.wikipedia.org/wiki/Q-value_(statistics)). By default, the false detection rate is ``1e-5``, and can be updated using the ``fdr`` argument."
   ]
  },
  {
   "cell_type": "code",
   "execution_count": 28,
   "metadata": {},
   "outputs": [
    {
     "data": {
      "text/html": [
       "<div>\n",
       "<style scoped>\n",
       "    .dataframe tbody tr th:only-of-type {\n",
       "        vertical-align: middle;\n",
       "    }\n",
       "\n",
       "    .dataframe tbody tr th {\n",
       "        vertical-align: top;\n",
       "    }\n",
       "\n",
       "    .dataframe thead th {\n",
       "        text-align: right;\n",
       "    }\n",
       "</style>\n",
       "<table border=\"1\" class=\"dataframe\">\n",
       "  <thead>\n",
       "    <tr style=\"text-align: right;\">\n",
       "      <th></th>\n",
       "      <th>pvalue</th>\n",
       "      <th>precision</th>\n",
       "      <th>recall</th>\n",
       "      <th>f1score</th>\n",
       "      <th>TP</th>\n",
       "      <th>regulon_size</th>\n",
       "      <th>gene_set_size</th>\n",
       "      <th>n_regs</th>\n",
       "      <th>qvalue</th>\n",
       "    </tr>\n",
       "  </thead>\n",
       "  <tbody>\n",
       "    <tr>\n",
       "      <th>thr-tRNA</th>\n",
       "      <td>0.000000e+00</td>\n",
       "      <td>1.0</td>\n",
       "      <td>1.000000</td>\n",
       "      <td>1.000000</td>\n",
       "      <td>3.0</td>\n",
       "      <td>3.0</td>\n",
       "      <td>3.0</td>\n",
       "      <td>1.0</td>\n",
       "      <td>0.000000e+00</td>\n",
       "    </tr>\n",
       "    <tr>\n",
       "      <th>ile-tRNA</th>\n",
       "      <td>8.354256e-09</td>\n",
       "      <td>1.0</td>\n",
       "      <td>0.333333</td>\n",
       "      <td>0.500000</td>\n",
       "      <td>3.0</td>\n",
       "      <td>9.0</td>\n",
       "      <td>3.0</td>\n",
       "      <td>1.0</td>\n",
       "      <td>2.923990e-08</td>\n",
       "    </tr>\n",
       "    <tr>\n",
       "      <th>lrp</th>\n",
       "      <td>1.306248e-04</td>\n",
       "      <td>1.0</td>\n",
       "      <td>0.015000</td>\n",
       "      <td>0.029557</td>\n",
       "      <td>3.0</td>\n",
       "      <td>200.0</td>\n",
       "      <td>3.0</td>\n",
       "      <td>1.0</td>\n",
       "      <td>3.047911e-04</td>\n",
       "    </tr>\n",
       "    <tr>\n",
       "      <th>arcA</th>\n",
       "      <td>1.540883e-03</td>\n",
       "      <td>1.0</td>\n",
       "      <td>0.006608</td>\n",
       "      <td>0.013129</td>\n",
       "      <td>3.0</td>\n",
       "      <td>454.0</td>\n",
       "      <td>3.0</td>\n",
       "      <td>1.0</td>\n",
       "      <td>2.157237e-03</td>\n",
       "    </tr>\n",
       "    <tr>\n",
       "      <th>fnr</th>\n",
       "      <td>1.411995e-03</td>\n",
       "      <td>1.0</td>\n",
       "      <td>0.006803</td>\n",
       "      <td>0.013514</td>\n",
       "      <td>3.0</td>\n",
       "      <td>441.0</td>\n",
       "      <td>3.0</td>\n",
       "      <td>1.0</td>\n",
       "      <td>2.157237e-03</td>\n",
       "    </tr>\n",
       "    <tr>\n",
       "      <th>crp</th>\n",
       "      <td>3.335561e-03</td>\n",
       "      <td>1.0</td>\n",
       "      <td>0.005111</td>\n",
       "      <td>0.010169</td>\n",
       "      <td>3.0</td>\n",
       "      <td>587.0</td>\n",
       "      <td>3.0</td>\n",
       "      <td>1.0</td>\n",
       "      <td>3.891487e-03</td>\n",
       "    </tr>\n",
       "  </tbody>\n",
       "</table>\n",
       "</div>"
      ],
      "text/plain": [
       "                pvalue  precision    recall   f1score   TP  regulon_size  \\\n",
       "thr-tRNA  0.000000e+00        1.0  1.000000  1.000000  3.0           3.0   \n",
       "ile-tRNA  8.354256e-09        1.0  0.333333  0.500000  3.0           9.0   \n",
       "lrp       1.306248e-04        1.0  0.015000  0.029557  3.0         200.0   \n",
       "arcA      1.540883e-03        1.0  0.006608  0.013129  3.0         454.0   \n",
       "fnr       1.411995e-03        1.0  0.006803  0.013514  3.0         441.0   \n",
       "crp       3.335561e-03        1.0  0.005111  0.010169  3.0         587.0   \n",
       "\n",
       "          gene_set_size  n_regs        qvalue  \n",
       "thr-tRNA            3.0     1.0  0.000000e+00  \n",
       "ile-tRNA            3.0     1.0  2.923990e-08  \n",
       "lrp                 3.0     1.0  3.047911e-04  \n",
       "arcA                3.0     1.0  2.157237e-03  \n",
       "fnr                 3.0     1.0  2.157237e-03  \n",
       "crp                 3.0     1.0  3.891487e-03  "
      ]
     },
     "execution_count": 28,
     "metadata": {},
     "output_type": "execute_result"
    }
   ],
   "source": [
    "compute_trn_enrichment(gene_set,all_genes,trn)"
   ]
  },
  {
   "cell_type": "markdown",
   "metadata": {},
   "source": [
    "``compute_trn_enrichment`` can perform enrichment against complex regulons in boolean combinations. The ``max_regs`` argument determines the number of regulators to include in the complex regulon, and the ``method`` argument determines how to combine complex regulons. ``method='or'`` computes enrichments against the union of regulons, ``'and'`` computes enrichment against intersection of regulons, and ``'both'`` performs both tests (default)."
   ]
  },
  {
   "cell_type": "code",
   "execution_count": 29,
   "metadata": {},
   "outputs": [
    {
     "data": {
      "text/html": [
       "<div>\n",
       "<style scoped>\n",
       "    .dataframe tbody tr th:only-of-type {\n",
       "        vertical-align: middle;\n",
       "    }\n",
       "\n",
       "    .dataframe tbody tr th {\n",
       "        vertical-align: top;\n",
       "    }\n",
       "\n",
       "    .dataframe thead th {\n",
       "        text-align: right;\n",
       "    }\n",
       "</style>\n",
       "<table border=\"1\" class=\"dataframe\">\n",
       "  <thead>\n",
       "    <tr style=\"text-align: right;\">\n",
       "      <th></th>\n",
       "      <th>pvalue</th>\n",
       "      <th>precision</th>\n",
       "      <th>recall</th>\n",
       "      <th>f1score</th>\n",
       "      <th>TP</th>\n",
       "      <th>regulon_size</th>\n",
       "      <th>gene_set_size</th>\n",
       "      <th>n_regs</th>\n",
       "      <th>qvalue</th>\n",
       "    </tr>\n",
       "  </thead>\n",
       "  <tbody>\n",
       "    <tr>\n",
       "      <th>fnr+ile-tRNA</th>\n",
       "      <td>0.0</td>\n",
       "      <td>1.0</td>\n",
       "      <td>1.0</td>\n",
       "      <td>1.0</td>\n",
       "      <td>3.0</td>\n",
       "      <td>3.0</td>\n",
       "      <td>3.0</td>\n",
       "      <td>2.0</td>\n",
       "      <td>0.0</td>\n",
       "    </tr>\n",
       "    <tr>\n",
       "      <th>thr-tRNA</th>\n",
       "      <td>0.0</td>\n",
       "      <td>1.0</td>\n",
       "      <td>1.0</td>\n",
       "      <td>1.0</td>\n",
       "      <td>3.0</td>\n",
       "      <td>3.0</td>\n",
       "      <td>3.0</td>\n",
       "      <td>1.0</td>\n",
       "      <td>0.0</td>\n",
       "    </tr>\n",
       "    <tr>\n",
       "      <th>arcA+ile-tRNA</th>\n",
       "      <td>0.0</td>\n",
       "      <td>1.0</td>\n",
       "      <td>1.0</td>\n",
       "      <td>1.0</td>\n",
       "      <td>3.0</td>\n",
       "      <td>3.0</td>\n",
       "      <td>3.0</td>\n",
       "      <td>2.0</td>\n",
       "      <td>0.0</td>\n",
       "    </tr>\n",
       "    <tr>\n",
       "      <th>lrp+thr-tRNA</th>\n",
       "      <td>0.0</td>\n",
       "      <td>1.0</td>\n",
       "      <td>1.0</td>\n",
       "      <td>1.0</td>\n",
       "      <td>3.0</td>\n",
       "      <td>3.0</td>\n",
       "      <td>3.0</td>\n",
       "      <td>2.0</td>\n",
       "      <td>0.0</td>\n",
       "    </tr>\n",
       "    <tr>\n",
       "      <th>arcA+thr-tRNA</th>\n",
       "      <td>0.0</td>\n",
       "      <td>1.0</td>\n",
       "      <td>1.0</td>\n",
       "      <td>1.0</td>\n",
       "      <td>3.0</td>\n",
       "      <td>3.0</td>\n",
       "      <td>3.0</td>\n",
       "      <td>2.0</td>\n",
       "      <td>0.0</td>\n",
       "    </tr>\n",
       "  </tbody>\n",
       "</table>\n",
       "</div>"
      ],
      "text/plain": [
       "               pvalue  precision  recall  f1score   TP  regulon_size  \\\n",
       "fnr+ile-tRNA      0.0        1.0     1.0      1.0  3.0           3.0   \n",
       "thr-tRNA          0.0        1.0     1.0      1.0  3.0           3.0   \n",
       "arcA+ile-tRNA     0.0        1.0     1.0      1.0  3.0           3.0   \n",
       "lrp+thr-tRNA      0.0        1.0     1.0      1.0  3.0           3.0   \n",
       "arcA+thr-tRNA     0.0        1.0     1.0      1.0  3.0           3.0   \n",
       "\n",
       "               gene_set_size  n_regs  qvalue  \n",
       "fnr+ile-tRNA             3.0     2.0     0.0  \n",
       "thr-tRNA                 3.0     1.0     0.0  \n",
       "arcA+ile-tRNA            3.0     2.0     0.0  \n",
       "lrp+thr-tRNA             3.0     2.0     0.0  \n",
       "arcA+thr-tRNA            3.0     2.0     0.0  "
      ]
     },
     "execution_count": 29,
     "metadata": {},
     "output_type": "execute_result"
    }
   ],
   "source": [
    "compute_trn_enrichment(gene_set,all_genes,trn,max_regs=2).head()"
   ]
  },
  {
   "cell_type": "markdown",
   "metadata": {},
   "source": [
    "Increasing the number of regulators for complex regulons beyond three can lead to a combinatorial explosion. If you are sure you want to search for larger complex regulons, use ``force=True``"
   ]
  },
  {
   "cell_type": "code",
   "execution_count": 30,
   "metadata": {},
   "outputs": [
    {
     "data": {
      "text/html": [
       "<div>\n",
       "<style scoped>\n",
       "    .dataframe tbody tr th:only-of-type {\n",
       "        vertical-align: middle;\n",
       "    }\n",
       "\n",
       "    .dataframe tbody tr th {\n",
       "        vertical-align: top;\n",
       "    }\n",
       "\n",
       "    .dataframe thead th {\n",
       "        text-align: right;\n",
       "    }\n",
       "</style>\n",
       "<table border=\"1\" class=\"dataframe\">\n",
       "  <thead>\n",
       "    <tr style=\"text-align: right;\">\n",
       "      <th></th>\n",
       "      <th>pvalue</th>\n",
       "      <th>precision</th>\n",
       "      <th>recall</th>\n",
       "      <th>f1score</th>\n",
       "      <th>TP</th>\n",
       "      <th>regulon_size</th>\n",
       "      <th>gene_set_size</th>\n",
       "      <th>n_regs</th>\n",
       "      <th>qvalue</th>\n",
       "    </tr>\n",
       "  </thead>\n",
       "  <tbody>\n",
       "    <tr>\n",
       "      <th>arcA+ile-tRNA+lrp</th>\n",
       "      <td>0.0</td>\n",
       "      <td>1.0</td>\n",
       "      <td>1.0</td>\n",
       "      <td>1.0</td>\n",
       "      <td>3.0</td>\n",
       "      <td>3.0</td>\n",
       "      <td>3.0</td>\n",
       "      <td>3.0</td>\n",
       "      <td>0.0</td>\n",
       "    </tr>\n",
       "    <tr>\n",
       "      <th>arcA+ile-tRNA+thr-tRNA</th>\n",
       "      <td>0.0</td>\n",
       "      <td>1.0</td>\n",
       "      <td>1.0</td>\n",
       "      <td>1.0</td>\n",
       "      <td>3.0</td>\n",
       "      <td>3.0</td>\n",
       "      <td>3.0</td>\n",
       "      <td>3.0</td>\n",
       "      <td>0.0</td>\n",
       "    </tr>\n",
       "    <tr>\n",
       "      <th>arcA+lrp+thr-tRNA</th>\n",
       "      <td>0.0</td>\n",
       "      <td>1.0</td>\n",
       "      <td>1.0</td>\n",
       "      <td>1.0</td>\n",
       "      <td>3.0</td>\n",
       "      <td>3.0</td>\n",
       "      <td>3.0</td>\n",
       "      <td>3.0</td>\n",
       "      <td>0.0</td>\n",
       "    </tr>\n",
       "    <tr>\n",
       "      <th>arcA+rpoD+thr-tRNA</th>\n",
       "      <td>0.0</td>\n",
       "      <td>1.0</td>\n",
       "      <td>1.0</td>\n",
       "      <td>1.0</td>\n",
       "      <td>3.0</td>\n",
       "      <td>3.0</td>\n",
       "      <td>3.0</td>\n",
       "      <td>3.0</td>\n",
       "      <td>0.0</td>\n",
       "    </tr>\n",
       "    <tr>\n",
       "      <th>crp+fnr+ile-tRNA</th>\n",
       "      <td>0.0</td>\n",
       "      <td>1.0</td>\n",
       "      <td>1.0</td>\n",
       "      <td>1.0</td>\n",
       "      <td>3.0</td>\n",
       "      <td>3.0</td>\n",
       "      <td>3.0</td>\n",
       "      <td>3.0</td>\n",
       "      <td>0.0</td>\n",
       "    </tr>\n",
       "  </tbody>\n",
       "</table>\n",
       "</div>"
      ],
      "text/plain": [
       "                        pvalue  precision  recall  f1score   TP  regulon_size  \\\n",
       "arcA+ile-tRNA+lrp          0.0        1.0     1.0      1.0  3.0           3.0   \n",
       "arcA+ile-tRNA+thr-tRNA     0.0        1.0     1.0      1.0  3.0           3.0   \n",
       "arcA+lrp+thr-tRNA          0.0        1.0     1.0      1.0  3.0           3.0   \n",
       "arcA+rpoD+thr-tRNA         0.0        1.0     1.0      1.0  3.0           3.0   \n",
       "crp+fnr+ile-tRNA           0.0        1.0     1.0      1.0  3.0           3.0   \n",
       "\n",
       "                        gene_set_size  n_regs  qvalue  \n",
       "arcA+ile-tRNA+lrp                 3.0     3.0     0.0  \n",
       "arcA+ile-tRNA+thr-tRNA            3.0     3.0     0.0  \n",
       "arcA+lrp+thr-tRNA                 3.0     3.0     0.0  \n",
       "arcA+rpoD+thr-tRNA                3.0     3.0     0.0  \n",
       "crp+fnr+ile-tRNA                  3.0     3.0     0.0  "
      ]
     },
     "execution_count": 30,
     "metadata": {},
     "output_type": "execute_result"
    }
   ],
   "source": [
    "compute_trn_enrichment(gene_set,all_genes,trn,max_regs=3,force=True).head()"
   ]
  },
  {
   "cell_type": "markdown",
   "metadata": {},
   "source": [
    "### Enrichments with the IcaData object"
   ]
  },
  {
   "cell_type": "code",
   "execution_count": 31,
   "metadata": {},
   "outputs": [
    {
     "data": {
      "text/plain": [
       "pvalue           6.515058e-24\n",
       "precision        1.000000e+00\n",
       "recall           8.888889e-01\n",
       "f1score          9.411765e-01\n",
       "TP               8.000000e+00\n",
       "regulon_size     9.000000e+00\n",
       "imodulon_size    8.000000e+00\n",
       "n_regs           1.000000e+00\n",
       "Name: glpR, dtype: float64"
      ]
     },
     "execution_count": 31,
     "metadata": {},
     "output_type": "execute_result"
    }
   ],
   "source": [
    "# Compare a single iModulon to a simple regulon\n",
    "ica_data.compute_regulon_enrichment('GlpR',regulator='glpR')"
   ]
  },
  {
   "cell_type": "code",
   "execution_count": 32,
   "metadata": {},
   "outputs": [
    {
     "data": {
      "text/plain": [
       "pvalue           3.933564e-10\n",
       "precision        1.000000e+00\n",
       "recall           2.105263e-01\n",
       "f1score          3.478261e-01\n",
       "TP               4.000000e+00\n",
       "regulon_size     1.900000e+01\n",
       "imodulon_size    4.000000e+00\n",
       "n_regs           2.000000e+00\n",
       "Name: cusR/cueR, dtype: float64"
      ]
     },
     "execution_count": 32,
     "metadata": {},
     "output_type": "execute_result"
    }
   ],
   "source": [
    "# Compare a single iModulon to a complex regulon\n",
    "ica_data.compute_regulon_enrichment('Copper','cusR/cueR')"
   ]
  },
  {
   "cell_type": "code",
   "execution_count": 33,
   "metadata": {},
   "outputs": [
    {
     "data": {
      "text/html": [
       "<div>\n",
       "<style scoped>\n",
       "    .dataframe tbody tr th:only-of-type {\n",
       "        vertical-align: middle;\n",
       "    }\n",
       "\n",
       "    .dataframe tbody tr th {\n",
       "        vertical-align: top;\n",
       "    }\n",
       "\n",
       "    .dataframe thead th {\n",
       "        text-align: right;\n",
       "    }\n",
       "</style>\n",
       "<table border=\"1\" class=\"dataframe\">\n",
       "  <thead>\n",
       "    <tr style=\"text-align: right;\">\n",
       "      <th></th>\n",
       "      <th>imodulon</th>\n",
       "      <th>regulator</th>\n",
       "      <th>pvalue</th>\n",
       "      <th>qvalue</th>\n",
       "      <th>precision</th>\n",
       "      <th>recall</th>\n",
       "      <th>f1score</th>\n",
       "      <th>TP</th>\n",
       "      <th>regulon_size</th>\n",
       "      <th>imodulon_size</th>\n",
       "      <th>n_regs</th>\n",
       "    </tr>\n",
       "  </thead>\n",
       "  <tbody>\n",
       "    <tr>\n",
       "      <th>0</th>\n",
       "      <td>AllR/AraC/FucR</td>\n",
       "      <td>allR</td>\n",
       "      <td>3.488522e-15</td>\n",
       "      <td>2.790817e-14</td>\n",
       "      <td>0.600000</td>\n",
       "      <td>0.666667</td>\n",
       "      <td>0.631579</td>\n",
       "      <td>6.0</td>\n",
       "      <td>9.0</td>\n",
       "      <td>10.0</td>\n",
       "      <td>1.0</td>\n",
       "    </tr>\n",
       "    <tr>\n",
       "      <th>1</th>\n",
       "      <td>AllR/AraC/FucR</td>\n",
       "      <td>araC</td>\n",
       "      <td>2.107315e-08</td>\n",
       "      <td>8.429259e-08</td>\n",
       "      <td>0.400000</td>\n",
       "      <td>0.285714</td>\n",
       "      <td>0.333333</td>\n",
       "      <td>4.0</td>\n",
       "      <td>14.0</td>\n",
       "      <td>10.0</td>\n",
       "      <td>1.0</td>\n",
       "    </tr>\n",
       "    <tr>\n",
       "      <th>2</th>\n",
       "      <td>ArcA-1</td>\n",
       "      <td>arcA</td>\n",
       "      <td>7.428452e-23</td>\n",
       "      <td>3.639941e-21</td>\n",
       "      <td>0.578947</td>\n",
       "      <td>0.096916</td>\n",
       "      <td>0.166038</td>\n",
       "      <td>44.0</td>\n",
       "      <td>454.0</td>\n",
       "      <td>76.0</td>\n",
       "      <td>1.0</td>\n",
       "    </tr>\n",
       "    <tr>\n",
       "      <th>3</th>\n",
       "      <td>ArcA-1</td>\n",
       "      <td>crp</td>\n",
       "      <td>2.267518e-12</td>\n",
       "      <td>5.555419e-11</td>\n",
       "      <td>0.486842</td>\n",
       "      <td>0.063032</td>\n",
       "      <td>0.111614</td>\n",
       "      <td>37.0</td>\n",
       "      <td>587.0</td>\n",
       "      <td>76.0</td>\n",
       "      <td>1.0</td>\n",
       "    </tr>\n",
       "    <tr>\n",
       "      <th>4</th>\n",
       "      <td>ArcA-2</td>\n",
       "      <td>appY</td>\n",
       "      <td>1.685325e-15</td>\n",
       "      <td>7.583963e-14</td>\n",
       "      <td>0.173913</td>\n",
       "      <td>0.888889</td>\n",
       "      <td>0.290909</td>\n",
       "      <td>8.0</td>\n",
       "      <td>9.0</td>\n",
       "      <td>46.0</td>\n",
       "      <td>1.0</td>\n",
       "    </tr>\n",
       "    <tr>\n",
       "      <th>...</th>\n",
       "      <td>...</td>\n",
       "      <td>...</td>\n",
       "      <td>...</td>\n",
       "      <td>...</td>\n",
       "      <td>...</td>\n",
       "      <td>...</td>\n",
       "      <td>...</td>\n",
       "      <td>...</td>\n",
       "      <td>...</td>\n",
       "      <td>...</td>\n",
       "      <td>...</td>\n",
       "    </tr>\n",
       "    <tr>\n",
       "      <th>185</th>\n",
       "      <td>proVWX</td>\n",
       "      <td>betI</td>\n",
       "      <td>9.274727e-09</td>\n",
       "      <td>3.153407e-07</td>\n",
       "      <td>0.100000</td>\n",
       "      <td>1.000000</td>\n",
       "      <td>0.181818</td>\n",
       "      <td>4.0</td>\n",
       "      <td>4.0</td>\n",
       "      <td>40.0</td>\n",
       "      <td>1.0</td>\n",
       "    </tr>\n",
       "    <tr>\n",
       "      <th>186</th>\n",
       "      <td>translation</td>\n",
       "      <td>rpoD</td>\n",
       "      <td>1.522323e-11</td>\n",
       "      <td>8.372775e-10</td>\n",
       "      <td>0.664000</td>\n",
       "      <td>0.056966</td>\n",
       "      <td>0.104930</td>\n",
       "      <td>83.0</td>\n",
       "      <td>1457.0</td>\n",
       "      <td>125.0</td>\n",
       "      <td>1.0</td>\n",
       "    </tr>\n",
       "    <tr>\n",
       "      <th>187</th>\n",
       "      <td>translation</td>\n",
       "      <td>fnr</td>\n",
       "      <td>4.717988e-11</td>\n",
       "      <td>1.297447e-09</td>\n",
       "      <td>0.328000</td>\n",
       "      <td>0.092971</td>\n",
       "      <td>0.144876</td>\n",
       "      <td>41.0</td>\n",
       "      <td>441.0</td>\n",
       "      <td>125.0</td>\n",
       "      <td>1.0</td>\n",
       "    </tr>\n",
       "    <tr>\n",
       "      <th>188</th>\n",
       "      <td>translation</td>\n",
       "      <td>arcA</td>\n",
       "      <td>2.437396e-08</td>\n",
       "      <td>4.468559e-07</td>\n",
       "      <td>0.296000</td>\n",
       "      <td>0.081498</td>\n",
       "      <td>0.127807</td>\n",
       "      <td>37.0</td>\n",
       "      <td>454.0</td>\n",
       "      <td>125.0</td>\n",
       "      <td>1.0</td>\n",
       "    </tr>\n",
       "    <tr>\n",
       "      <th>189</th>\n",
       "      <td>uncharacterized-6</td>\n",
       "      <td>h-NS</td>\n",
       "      <td>6.662702e-09</td>\n",
       "      <td>4.997026e-07</td>\n",
       "      <td>0.147239</td>\n",
       "      <td>0.158940</td>\n",
       "      <td>0.152866</td>\n",
       "      <td>24.0</td>\n",
       "      <td>151.0</td>\n",
       "      <td>163.0</td>\n",
       "      <td>1.0</td>\n",
       "    </tr>\n",
       "  </tbody>\n",
       "</table>\n",
       "<p>190 rows × 11 columns</p>\n",
       "</div>"
      ],
      "text/plain": [
       "              imodulon regulator        pvalue        qvalue  precision  \\\n",
       "0       AllR/AraC/FucR      allR  3.488522e-15  2.790817e-14   0.600000   \n",
       "1       AllR/AraC/FucR      araC  2.107315e-08  8.429259e-08   0.400000   \n",
       "2               ArcA-1      arcA  7.428452e-23  3.639941e-21   0.578947   \n",
       "3               ArcA-1       crp  2.267518e-12  5.555419e-11   0.486842   \n",
       "4               ArcA-2      appY  1.685325e-15  7.583963e-14   0.173913   \n",
       "..                 ...       ...           ...           ...        ...   \n",
       "185             proVWX      betI  9.274727e-09  3.153407e-07   0.100000   \n",
       "186        translation      rpoD  1.522323e-11  8.372775e-10   0.664000   \n",
       "187        translation       fnr  4.717988e-11  1.297447e-09   0.328000   \n",
       "188        translation      arcA  2.437396e-08  4.468559e-07   0.296000   \n",
       "189  uncharacterized-6      h-NS  6.662702e-09  4.997026e-07   0.147239   \n",
       "\n",
       "       recall   f1score    TP  regulon_size  imodulon_size  n_regs  \n",
       "0    0.666667  0.631579   6.0           9.0           10.0     1.0  \n",
       "1    0.285714  0.333333   4.0          14.0           10.0     1.0  \n",
       "2    0.096916  0.166038  44.0         454.0           76.0     1.0  \n",
       "3    0.063032  0.111614  37.0         587.0           76.0     1.0  \n",
       "4    0.888889  0.290909   8.0           9.0           46.0     1.0  \n",
       "..        ...       ...   ...           ...            ...     ...  \n",
       "185  1.000000  0.181818   4.0           4.0           40.0     1.0  \n",
       "186  0.056966  0.104930  83.0        1457.0          125.0     1.0  \n",
       "187  0.092971  0.144876  41.0         441.0          125.0     1.0  \n",
       "188  0.081498  0.127807  37.0         454.0          125.0     1.0  \n",
       "189  0.158940  0.152866  24.0         151.0          163.0     1.0  \n",
       "\n",
       "[190 rows x 11 columns]"
      ]
     },
     "execution_count": 33,
     "metadata": {},
     "output_type": "execute_result"
    }
   ],
   "source": [
    "# Get all significant enrichments for all iModulons. \n",
    "# Optional parameters are same as the global compute_trn_enrichment function\n",
    "ica_data.compute_trn_enrichment()"
   ]
  },
  {
   "cell_type": "markdown",
   "metadata": {},
   "source": [
    "## Renaming iModulons\n",
    "\n",
    "Individual iModulons can be renamed using the rename_imodulons method"
   ]
  },
  {
   "cell_type": "code",
   "execution_count": 34,
   "metadata": {},
   "outputs": [
    {
     "name": "stdout",
     "output_type": "stream",
     "text": [
      "Original iModulon Names: ['AllR/AraC/FucR', 'ArcA-1', 'ArcA-2', 'ArgR', 'AtoC']\n",
      "Renamed iModulon Names: ['AllR', 'ArcA-1', 'ArcA-2', 'ArgR', 'AtoC']\n"
     ]
    }
   ],
   "source": [
    "print('Original iModulon Names:', ica_data.imodulon_names[:5])\n",
    "ica_data.rename_imodulons({'AllR/AraC/FucR':'AllR'})\n",
    "print('Renamed iModulon Names:', ica_data.imodulon_names[:5])"
   ]
  },
  {
   "cell_type": "markdown",
   "metadata": {},
   "source": [
    "These changes are reflected throughout the IcaData object."
   ]
  },
  {
   "cell_type": "markdown",
   "metadata": {},
   "source": [
    "## Visualization"
   ]
  },
  {
   "cell_type": "code",
   "execution_count": 35,
   "metadata": {},
   "outputs": [],
   "source": [
    "from pymodulon.plotting import *\n",
    "from pymodulon.example_data import load_ecoli_data"
   ]
  },
  {
   "cell_type": "code",
   "execution_count": 36,
   "metadata": {},
   "outputs": [],
   "source": [
    "ica_data = load_ecoli_data()"
   ]
  },
  {
   "cell_type": "markdown",
   "metadata": {},
   "source": [
    "Gene expression and iModulon activities are easily viewed as bar plots. Use the plot_expression and plot_activities functions, respectively. Any numeric metadata for your experiments can be plotted using the plot_metadata function.\n",
    "\n",
    "Optional arguments:\n",
    "\n",
    "-projects: Only show specific project(s)\n",
    "\n",
    "-highlight: Show individiual conditions for specific project(s)\n",
    "\n",
    "-ax: Use a pre-existing matplotlib axis (helpful if you want to manually determine the plot size).\n",
    "\n",
    "-legend_args: Dictionary of arguments to pass to the matplotlib legend (e.g. {'fontsize':12, 'loc':0, 'ncol':2})"
   ]
  },
  {
   "cell_type": "markdown",
   "metadata": {
    "heading_collapsed": true
   },
   "source": [
    "## Plotting Gene Expression"
   ]
  },
  {
   "cell_type": "markdown",
   "metadata": {},
   "source": [
    "You can plot the compendium-wide expression of a gene using either the locus tag or gene name. Each bar represents an experimental condition, and points are overlaid on the bars to show the gene expression of individual replicates. The plot is subdivided into projects, as stored in the sample_table."
   ]
  },
  {
   "cell_type": "code",
   "execution_count": 37,
   "metadata": {
    "hidden": true
   },
   "outputs": [
    {
     "data": {
      "image/png": "[encoded data removed]",
      "text/plain": [
       "<Figure size 1370.4x144 with 1 Axes>"
      ]
     },
     "metadata": {
      "needs_background": "light"
     },
     "output_type": "display_data"
    }
   ],
   "source": [
    "plot_expression(ica_data,'b0002');"
   ]
  },
  {
   "cell_type": "markdown",
   "metadata": {},
   "source": [
    "The plot can be limited to specific projects using the projects argument. The highlight argument shows individual conditions in the legend."
   ]
  },
  {
   "cell_type": "code",
   "execution_count": 38,
   "metadata": {
    "hidden": true
   },
   "outputs": [
    {
     "data": {
      "image/png": "[encoded data removed]",
      "text/plain": [
       "<Figure size 247.2x144 with 1 Axes>"
      ]
     },
     "metadata": {
      "needs_background": "light"
     },
     "output_type": "display_data"
    }
   ],
   "source": [
    "plot_expression(ica_data,'thrA',projects=['ica','fps'],highlight='fps');"
   ]
  },
  {
   "cell_type": "markdown",
   "metadata": {
    "heading_collapsed": true
   },
   "source": [
    "## Plotting iModulon Activity"
   ]
  },
  {
   "cell_type": "markdown",
   "metadata": {},
   "source": [
    "The plot_activities function mirrors the plot_expression function, but shows iModulon activities instead of gene expression."
   ]
  },
  {
   "cell_type": "code",
   "execution_count": 39,
   "metadata": {
    "hidden": true
   },
   "outputs": [
    {
     "data": {
      "image/png": "[encoded data removed]",
      "text/plain": [
       "<Figure size 1370.4x144 with 1 Axes>"
      ]
     },
     "metadata": {
      "needs_background": "light"
     },
     "output_type": "display_data"
    }
   ],
   "source": [
    "plot_activities(ica_data,'GlpR',highlight='crp');"
   ]
  },
  {
   "cell_type": "code",
   "execution_count": 40,
   "metadata": {
    "hidden": true
   },
   "outputs": [
    {
     "data": {
      "image/png": "[encoded data removed]",
      "text/plain": [
       "<Figure size 132x144 with 1 Axes>"
      ]
     },
     "metadata": {
      "needs_background": "light"
     },
     "output_type": "display_data"
    }
   ],
   "source": [
    "plot_activities(ica_data,'GlpR',projects='crp');"
   ]
  },
  {
   "cell_type": "markdown",
   "metadata": {
    "heading_collapsed": true
   },
   "source": [
    "## Plotting Metadata"
   ]
  },
  {
   "cell_type": "markdown",
   "metadata": {},
   "source": [
    "If the sample_table contains numerical values in a column, this column can be graphed using the plot_metadata function."
   ]
  },
  {
   "cell_type": "code",
   "execution_count": 41,
   "metadata": {
    "hidden": true
   },
   "outputs": [
    {
     "data": {
      "image/png": "[encoded data removed]",
      "text/plain": [
       "<Figure size 1370.4x144 with 1 Axes>"
      ]
     },
     "metadata": {
      "needs_background": "light"
     },
     "output_type": "display_data"
    }
   ],
   "source": [
    "plot_metadata(ica_data,'Growth Rate (1/hr)');"
   ]
  },
  {
   "cell_type": "markdown",
   "metadata": {},
   "source": [
    "## Metadata Boxplots\n",
    "\n",
    "The function metadata_boxplot uses a decision tree regressor to automatically cluster iModulon activities using metadata. Displays results as a box plot."
   ]
  },
  {
   "cell_type": "code",
   "execution_count": 42,
   "metadata": {},
   "outputs": [
    {
     "data": {
      "text/plain": [
       "<AxesSubplot:xlabel='GlpR'>"
      ]
     },
     "execution_count": 42,
     "metadata": {},
     "output_type": "execute_result"
    },
    {
     "data": {
      "image/png": "[encoded data removed]",
      "text/plain": [
       "<Figure size 432x288 with 1 Axes>"
      ]
     },
     "metadata": {
      "needs_background": "light"
     },
     "output_type": "display_data"
    }
   ],
   "source": [
    "metadata_boxplot(ica_data, 'GlpR')"
   ]
  },
  {
   "cell_type": "markdown",
   "metadata": {
    "heading_collapsed": true
   },
   "source": [
    "## Scatterplots"
   ]
  },
  {
   "cell_type": "markdown",
   "metadata": {
    "hidden": true
   },
   "source": [
    "Gene expression and iModulon activities can be compared with a scatter plot. Use the compare_expression and compare_activities functions, respectively. In addition, compare_values can be used to compare any compendium-wide value against another, including gene expression, iModulon activity, and sample metadata.\n",
    "\n",
    "Optional arguments:\n",
    "\n",
    "-groups: Mapping of samples to specific groups\n",
    "\n",
    "-colors: Color of points, list of colors to use for different groups, or dictionary mapping groups to colors\n",
    "\n",
    "-show_labels: Show labels for points. (default: False)\n",
    "\n",
    "-adjust_labels: Automatically avoid label overlap\n",
    "\n",
    "-fit_metric: Correlation metric of 'pearson','spearman', or 'r2adj' (default: 'pearson')\n",
    "\n",
    "-ax: Use a pre-existing axis (helpful if you want to manually determine the plot size)\n",
    "\n",
    "Formatting arguments:\n",
    "\n",
    "-ax_font_args: Arguments for x-axis labels and y-axis labels (e.g. {'fontsize':16'})\n",
    "\n",
    "-scatter_args: Arguments for matplotlib scatterplot (e.g. {'s'=10})\n",
    "\n",
    "-label_font_args: Arguments for matplotlib text labels (e.g. {'fontsize':8})\n",
    "\n",
    "-legend_args: Arguments to pass to the matplotlib legend (e.g. {'fontsize':12, 'loc':0, 'ncol':2})"
   ]
  },
  {
   "cell_type": "markdown",
   "metadata": {},
   "source": [
    "## Plot Gene Weights"
   ]
  },
  {
   "cell_type": "markdown",
   "metadata": {},
   "source": [
    "plot_gene_weights will plot an iModulon’s gene weights against its genomic position. If the number of genes in the iModulon is fewer than 20, it will also show the gene names (or locus tags, if gene name is unavailable). If the gene_table contains a COG column, genes will be colored by their Cluster of Orthologous Genes category."
   ]
  },
  {
   "cell_type": "code",
   "execution_count": 43,
   "metadata": {
    "hidden": true,
    "scrolled": true
   },
   "outputs": [
    {
     "data": {
      "text/plain": [
       "<AxesSubplot:xlabel='Gene Start', ylabel='GlpR Gene Weight'>"
      ]
     },
     "execution_count": 43,
     "metadata": {},
     "output_type": "execute_result"
    },
    {
     "data": {
      "image/png": "[encoded data removed]",
      "text/plain": [
       "<Figure size 432x288 with 1 Axes>"
      ]
     },
     "metadata": {
      "needs_background": "light"
     },
     "output_type": "display_data"
    }
   ],
   "source": [
    "plot_gene_weights(ica_data,'GlpR')"
   ]
  },
  {
   "cell_type": "markdown",
   "metadata": {},
   "source": [
    "If there are more than 20 genes, gene names will not be shown by default."
   ]
  },
  {
   "cell_type": "code",
   "execution_count": 44,
   "metadata": {
    "hidden": true
   },
   "outputs": [
    {
     "data": {
      "text/plain": [
       "<AxesSubplot:xlabel='Gene Start', ylabel='Fnr Gene Weight'>"
      ]
     },
     "execution_count": 44,
     "metadata": {},
     "output_type": "execute_result"
    },
    {
     "data": {
      "image/png": "[encoded data removed]",
      "text/plain": [
       "<Figure size 432x288 with 1 Axes>"
      ]
     },
     "metadata": {
      "needs_background": "light"
     },
     "output_type": "display_data"
    }
   ],
   "source": [
    "plot_gene_weights(ica_data,'Fnr')"
   ]
  },
  {
   "cell_type": "markdown",
   "metadata": {
    "hidden": true
   },
   "source": [
    "Use show_labels=True show gene labels. It is advisable to turn off auto-adjustment of gene labels (adjust_labels=False), as this may take a while with many genes."
   ]
  },
  {
   "cell_type": "code",
   "execution_count": 45,
   "metadata": {
    "hidden": true
   },
   "outputs": [
    {
     "data": {
      "text/plain": [
       "<AxesSubplot:xlabel='Gene Start', ylabel='Fnr Gene Weight'>"
      ]
     },
     "execution_count": 45,
     "metadata": {},
     "output_type": "execute_result"
    },
    {
     "data": {
      "image/png": "[encoded data removed]",
      "text/plain": [
       "<Figure size 432x288 with 1 Axes>"
      ]
     },
     "metadata": {
      "needs_background": "light"
     },
     "output_type": "display_data"
    }
   ],
   "source": [
    "plot_gene_weights(ica_data,'Fnr',show_labels=True,adjust_labels=False)"
   ]
  },
  {
   "cell_type": "markdown",
   "metadata": {
    "heading_collapsed": true
   },
   "source": [
    "## Comparing Two Expression Profiles"
   ]
  },
  {
   "cell_type": "markdown",
   "metadata": {
    "hidden": true
   },
   "source": [
    "The compare_expression function plots two gene expression profiles against each other. Groups of samples can be highlighted to visualize the effects of experimental conditions."
   ]
  },
  {
   "cell_type": "code",
   "execution_count": 46,
   "metadata": {
    "hidden": true
   },
   "outputs": [],
   "source": [
    "groups = {'minspan__wt_glc_anaero__1':'Anaerobic',\n",
    "          'minspan__wt_glc_anaero__2':'Anaerobic'}"
   ]
  },
  {
   "cell_type": "code",
   "execution_count": 47,
   "metadata": {
    "hidden": true
   },
   "outputs": [
    {
     "data": {
      "text/plain": [
       "<AxesSubplot:xlabel='$arcA$ Expression', ylabel='$fnr$ Expression'>"
      ]
     },
     "execution_count": 47,
     "metadata": {},
     "output_type": "execute_result"
    },
    {
     "data": {
      "image/png": "[encoded data removed]",
      "text/plain": [
       "<Figure size 432x288 with 1 Axes>"
      ]
     },
     "metadata": {
      "needs_background": "light"
     },
     "output_type": "display_data"
    }
   ],
   "source": [
    "compare_expression(ica_data,'arcA','fnr',groups=groups)"
   ]
  },
  {
   "cell_type": "markdown",
   "metadata": {},
   "source": [
    "The compare activites function mirros the compare expression function."
   ]
  },
  {
   "cell_type": "code",
   "execution_count": 48,
   "metadata": {
    "hidden": true
   },
   "outputs": [
    {
     "data": {
      "text/plain": [
       "<AxesSubplot:xlabel='Fnr iModulon Activity', ylabel='ArcA-1 iModulon Activity'>"
      ]
     },
     "execution_count": 48,
     "metadata": {},
     "output_type": "execute_result"
    },
    {
     "data": {
      "image/png": "[encoded data removed]",
      "text/plain": [
       "<Figure size 432x288 with 1 Axes>"
      ]
     },
     "metadata": {
      "needs_background": "light"
     },
     "output_type": "display_data"
    }
   ],
   "source": [
    "compare_activities(ica_data,'Fnr','ArcA-1',groups=groups)"
   ]
  },
  {
   "cell_type": "code",
   "execution_count": 49,
   "metadata": {
    "hidden": true
   },
   "outputs": [
    {
     "data": {
      "text/plain": [
       "<AxesSubplot:xlabel='Fnr iModulon Activity', ylabel='ArcA-1 iModulon Activity'>"
      ]
     },
     "execution_count": 49,
     "metadata": {},
     "output_type": "execute_result"
    },
    {
     "data": {
      "image/png": "[encoded data removed]",
      "text/plain": [
       "<Figure size 432x288 with 1 Axes>"
      ]
     },
     "metadata": {
      "needs_background": "light"
     },
     "output_type": "display_data"
    }
   ],
   "source": [
    "compare_activities(ica_data,'Fnr','ArcA-1',groups=groups,colors=['green','purple'])"
   ]
  },
  {
   "cell_type": "markdown",
   "metadata": {},
   "source": [
    "## Compare iModulon Gene Weights"
   ]
  },
  {
   "cell_type": "markdown",
   "metadata": {
    "hidden": true
   },
   "source": [
    "compare_gene_weights plots the gene weights of two iModulons against each other. Dashed lines indicate iModulon thresholds. Genes outside both thresholds are highlighted in red and labelled."
   ]
  },
  {
   "cell_type": "code",
   "execution_count": 50,
   "metadata": {
    "hidden": true
   },
   "outputs": [
    {
     "data": {
      "text/plain": [
       "<AxesSubplot:xlabel='CysB Gene Weight', ylabel='Cbl+CysB Gene Weight'>"
      ]
     },
     "execution_count": 50,
     "metadata": {},
     "output_type": "execute_result"
    },
    {
     "data": {
      "image/png": "[encoded data removed]",
      "text/plain": [
       "<Figure size 432x288 with 1 Axes>"
      ]
     },
     "metadata": {
      "needs_background": "light"
     },
     "output_type": "display_data"
    }
   ],
   "source": [
    "compare_gene_weights(ica_data,'CysB','Cbl+CysB')"
   ]
  },
  {
   "cell_type": "markdown",
   "metadata": {
    "heading_collapsed": true
   },
   "source": [
    "## Differential iModulon Activity"
   ]
  },
  {
   "cell_type": "markdown",
   "metadata": {
    "hidden": true
   },
   "source": [
    "A Differential iModulon Activity plot, or DiMA plot shows iModulons that have significantly different iModulon activities between two experimental conditions. The plot_dima function can either compare two conditions using project:condition keys, or using a list of sample names."
   ]
  },
  {
   "cell_type": "code",
   "execution_count": 51,
   "metadata": {
    "hidden": true
   },
   "outputs": [
    {
     "data": {
      "text/plain": [
       "<AxesSubplot:xlabel='fur:wt_fe', ylabel='fur:delfur_fe2'>"
      ]
     },
     "execution_count": 51,
     "metadata": {},
     "output_type": "execute_result"
    },
    {
     "data": {
      "image/png": "[encoded data removed]",
      "text/plain": [
       "<Figure size 432x288 with 1 Axes>"
      ]
     },
     "metadata": {
      "needs_background": "light"
     },
     "output_type": "display_data"
    }
   ],
   "source": [
    "plot_dima(ica_data,'fur:wt_fe','fur:delfur_fe2')"
   ]
  },
  {
   "cell_type": "markdown",
   "metadata": {},
   "source": [
    "To show the DiMA table, use table=True\n",
    "Adjusting labels can be turned off using adjust=False"
   ]
  },
  {
   "cell_type": "code",
   "execution_count": 52,
   "metadata": {
    "hidden": true
   },
   "outputs": [
    {
     "data": {
      "text/html": [
       "<div>\n",
       "<style scoped>\n",
       "    .dataframe tbody tr th:only-of-type {\n",
       "        vertical-align: middle;\n",
       "    }\n",
       "\n",
       "    .dataframe tbody tr th {\n",
       "        vertical-align: top;\n",
       "    }\n",
       "\n",
       "    .dataframe thead th {\n",
       "        text-align: right;\n",
       "    }\n",
       "</style>\n",
       "<table border=\"1\" class=\"dataframe\">\n",
       "  <thead>\n",
       "    <tr style=\"text-align: right;\">\n",
       "      <th></th>\n",
       "      <th>difference</th>\n",
       "      <th>pvalue</th>\n",
       "      <th>qvalue</th>\n",
       "      <th>0</th>\n",
       "      <th>1</th>\n",
       "    </tr>\n",
       "  </thead>\n",
       "  <tbody>\n",
       "    <tr>\n",
       "      <th>Fur-1</th>\n",
       "      <td>27.598965</td>\n",
       "      <td>7.320594e-04</td>\n",
       "      <td>0.011225</td>\n",
       "      <td>-6.701019</td>\n",
       "      <td>20.897946</td>\n",
       "    </tr>\n",
       "    <tr>\n",
       "      <th>fur-KO</th>\n",
       "      <td>14.918007</td>\n",
       "      <td>4.338664e-08</td>\n",
       "      <td>0.000004</td>\n",
       "      <td>3.516092</td>\n",
       "      <td>18.434098</td>\n",
       "    </tr>\n",
       "    <tr>\n",
       "      <th>RpoH</th>\n",
       "      <td>5.145175</td>\n",
       "      <td>3.091958e-03</td>\n",
       "      <td>0.031607</td>\n",
       "      <td>0.008680</td>\n",
       "      <td>5.153855</td>\n",
       "    </tr>\n",
       "    <tr>\n",
       "      <th>flu-yeeRS</th>\n",
       "      <td>-5.020887</td>\n",
       "      <td>2.246638e-04</td>\n",
       "      <td>0.006612</td>\n",
       "      <td>5.299051</td>\n",
       "      <td>0.278164</td>\n",
       "    </tr>\n",
       "    <tr>\n",
       "      <th>membrane</th>\n",
       "      <td>-6.005727</td>\n",
       "      <td>5.390713e-05</td>\n",
       "      <td>0.002480</td>\n",
       "      <td>-0.163181</td>\n",
       "      <td>-6.168908</td>\n",
       "    </tr>\n",
       "    <tr>\n",
       "      <th>PuuR</th>\n",
       "      <td>-6.026142</td>\n",
       "      <td>1.397577e-03</td>\n",
       "      <td>0.017874</td>\n",
       "      <td>-3.040374</td>\n",
       "      <td>-9.066517</td>\n",
       "    </tr>\n",
       "    <tr>\n",
       "      <th>NarL</th>\n",
       "      <td>-6.873706</td>\n",
       "      <td>4.898118e-03</td>\n",
       "      <td>0.040966</td>\n",
       "      <td>6.520503</td>\n",
       "      <td>-0.353203</td>\n",
       "    </tr>\n",
       "    <tr>\n",
       "      <th>iron-related</th>\n",
       "      <td>-14.209552</td>\n",
       "      <td>2.874857e-04</td>\n",
       "      <td>0.006612</td>\n",
       "      <td>1.004311</td>\n",
       "      <td>-13.205241</td>\n",
       "    </tr>\n",
       "    <tr>\n",
       "      <th>Zinc</th>\n",
       "      <td>-15.497242</td>\n",
       "      <td>5.238034e-04</td>\n",
       "      <td>0.009638</td>\n",
       "      <td>21.181402</td>\n",
       "      <td>5.684160</td>\n",
       "    </tr>\n",
       "  </tbody>\n",
       "</table>\n",
       "</div>"
      ],
      "text/plain": [
       "              difference        pvalue    qvalue          0          1\n",
       "Fur-1          27.598965  7.320594e-04  0.011225  -6.701019  20.897946\n",
       "fur-KO         14.918007  4.338664e-08  0.000004   3.516092  18.434098\n",
       "RpoH            5.145175  3.091958e-03  0.031607   0.008680   5.153855\n",
       "flu-yeeRS      -5.020887  2.246638e-04  0.006612   5.299051   0.278164\n",
       "membrane       -6.005727  5.390713e-05  0.002480  -0.163181  -6.168908\n",
       "PuuR           -6.026142  1.397577e-03  0.017874  -3.040374  -9.066517\n",
       "NarL           -6.873706  4.898118e-03  0.040966   6.520503  -0.353203\n",
       "iron-related  -14.209552  2.874857e-04  0.006612   1.004311 -13.205241\n",
       "Zinc          -15.497242  5.238034e-04  0.009638  21.181402   5.684160"
      ]
     },
     "execution_count": 52,
     "metadata": {},
     "output_type": "execute_result"
    },
    {
     "data": {
      "image/png": "[encoded data removed]",
      "text/plain": [
       "<Figure size 432x288 with 1 Axes>"
      ]
     },
     "metadata": {
      "needs_background": "light"
     },
     "output_type": "display_data"
    }
   ],
   "source": [
    "ax, table = plot_dima(ica_data,\n",
    "          ['fur__wt_fe__1','fur__wt_fe__2'],\n",
    "          ['fur__delfur_fe2__1','fur__delfur_fe2__2'],\n",
    "          table=True,\n",
    "          adjust=False)\n",
    "table"
   ]
  },
  {
   "cell_type": "markdown",
   "metadata": {},
   "source": [
    "## Overview plots\n",
    "**PyModulon** contains two plots to help gain a general overview of your IcaData object."
   ]
  },
  {
   "cell_type": "markdown",
   "metadata": {},
   "source": [
    "### Compare iModulons vs Regulons\n",
    "``compare_imodulon_vs_regulon`` creates a scatter plot that compares the overlap between iModulons and their linked regulators. The dashed lines creates four quadrants:\n",
    "\n",
    "1. Top-right: iModulons that are nearly identical to known regulons (\"Well-matched\")\n",
    "2. Top-left: iModulons contain a subset of the total genes thought to be regulated by the linked regulator (\"Subset\")\n",
    "3. Bottom-right: iModulons contain most of the genes thought to be regulated by the linked regulator. However, these iModulons contain a high fraction of genes that are not yet confirmed to be regulated by the regulator (\"Unknown-containing\").\n",
    "4. Bottom-left: iModulons have a small, but statistically significant, overlap with the associated regulator (\"Closest match\")\n",
    "\n",
    "Additional options include:\n",
    "\n",
    "* ``imodulons``: List of iModulons to plot\n",
    "* ``cat_column``: Column in the ``imodulon_table` that stores the category of each iModulon\n",
    "* ``size_column``: Column in the ``imodulon_table`` that stores the size of each iModulon\n",
    "* ``scale``: Value used to scale the size of each point\n",
    "* ``reg_only``: Only plot iModulons with an entry in the ``regulator`` column of the ``imodulon_table``\n",
    "* ``xlabel``: Custom x-axis label (default: \"# shared genes/Regulon size\")\n",
    "* ``ylabel``: Custom y-axis label (default: \"# shared genes/iModulon size\")\n",
    "* ``vline``: Draw a dashed vertical line\n",
    "* ``hline``: Draw a dashed horizontal line"
   ]
  },
  {
   "cell_type": "code",
   "execution_count": 53,
   "metadata": {},
   "outputs": [
    {
     "data": {
      "image/png": "[encoded data removed]",
      "text/plain": [
       "<Figure size 360x360 with 1 Axes>"
      ]
     },
     "metadata": {
      "needs_background": "light"
     },
     "output_type": "display_data"
    }
   ],
   "source": [
    "compare_imodulons_vs_regulons(ica_data, \n",
    "                              size_column='n_genes',\n",
    "                              cat_column='Category',\n",
    "                              scale=3);"
   ]
  },
  {
   "cell_type": "markdown",
   "metadata": {},
   "source": [
    "## Activity Clustering\n",
    "\n",
    "The iModulon activites in the ``A`` matrix can be clustered based on correlation between their activities across conditions in the compendium.\n",
    "\n",
    "Use the ``cluster_activities`` function to prepare a [clustermap](https://seaborn.pydata.org/generated/seaborn.clustermap.html); the minimal input is simply your ``IcaData`` object."
   ]
  },
  {
   "cell_type": "code",
   "execution_count": 54,
   "metadata": {},
   "outputs": [
    {
     "data": {
      "image/png": "[encoded data removed]",
      "text/plain": [
       "<Figure size 720x720 with 4 Axes>"
      ]
     },
     "metadata": {
      "needs_background": "light"
     },
     "output_type": "display_data"
    },
    {
     "data": {
      "text/plain": [
       "[AgglomerativeClustering(affinity='precomputed', compute_full_tree=True,\n",
       "                         distance_threshold=0.65, linkage='complete',\n",
       "                         n_clusters=None)]"
      ]
     },
     "execution_count": 54,
     "metadata": {},
     "output_type": "execute_result"
    },
    {
     "data": {
      "image/png": "[encoded data removed]",
      "text/plain": [
       "<Figure size 1008x648 with 16 Axes>"
      ]
     },
     "metadata": {
      "needs_background": "light"
     },
     "output_type": "display_data"
    }
   ],
   "source": [
    "cluster_activities(ica_data, show_best_clusters = True)"
   ]
  },
  {
   "cell_type": "markdown",
   "metadata": {},
   "source": [
    "# Saving and Loading IcaData Objects"
   ]
  },
  {
   "cell_type": "markdown",
   "metadata": {},
   "source": [
    "To facilitate data sharing, you can save IcaData objects as json files that can be easily re-loaded"
   ]
  },
  {
   "cell_type": "code",
   "execution_count": 55,
   "metadata": {},
   "outputs": [],
   "source": [
    "from pymodulon.io import *"
   ]
  },
  {
   "cell_type": "code",
   "execution_count": 56,
   "metadata": {},
   "outputs": [],
   "source": [
    "save_to_json(ica_data,'ecoli_data.json')"
   ]
  },
  {
   "cell_type": "code",
   "execution_count": 57,
   "metadata": {},
   "outputs": [],
   "source": [
    "ica_data2 = load_json_model('ecoli_data.json')"
   ]
  },
  {
   "cell_type": "code",
   "execution_count": 58,
   "metadata": {
    "scrolled": false
   },
   "outputs": [
    {
     "data": {
      "text/html": [
       "<div>\n",
       "<style scoped>\n",
       "    .dataframe tbody tr th:only-of-type {\n",
       "        vertical-align: middle;\n",
       "    }\n",
       "\n",
       "    .dataframe tbody tr th {\n",
       "        vertical-align: top;\n",
       "    }\n",
       "\n",
       "    .dataframe thead th {\n",
       "        text-align: right;\n",
       "    }\n",
       "</style>\n",
       "<table border=\"1\" class=\"dataframe\">\n",
       "  <thead>\n",
       "    <tr style=\"text-align: right;\">\n",
       "      <th></th>\n",
       "      <th>regulator</th>\n",
       "      <th>f1score</th>\n",
       "      <th>pvalue</th>\n",
       "      <th>precision</th>\n",
       "      <th>recall</th>\n",
       "      <th>TP</th>\n",
       "      <th>n_genes</th>\n",
       "      <th>n_tf</th>\n",
       "      <th>Category</th>\n",
       "      <th>threshold</th>\n",
       "    </tr>\n",
       "  </thead>\n",
       "  <tbody>\n",
       "    <tr>\n",
       "      <th>AllR/AraC/FucR</th>\n",
       "      <td>allR/araC/fucR</td>\n",
       "      <td>0.750000</td>\n",
       "      <td>1.190000e-41</td>\n",
       "      <td>1.000000</td>\n",
       "      <td>0.600000</td>\n",
       "      <td>18.0</td>\n",
       "      <td>18</td>\n",
       "      <td>3</td>\n",
       "      <td>Carbon Source Utilization</td>\n",
       "      <td>0.086996</td>\n",
       "    </tr>\n",
       "    <tr>\n",
       "      <th>ArcA-1</th>\n",
       "      <td>arcA</td>\n",
       "      <td>0.130952</td>\n",
       "      <td>6.420000e-20</td>\n",
       "      <td>0.660000</td>\n",
       "      <td>0.072687</td>\n",
       "      <td>33.0</td>\n",
       "      <td>50</td>\n",
       "      <td>1</td>\n",
       "      <td>Energy Metabolism</td>\n",
       "      <td>0.058051</td>\n",
       "    </tr>\n",
       "    <tr>\n",
       "      <th>ArcA-2</th>\n",
       "      <td>arcA</td>\n",
       "      <td>0.087683</td>\n",
       "      <td>1.150000e-16</td>\n",
       "      <td>0.840000</td>\n",
       "      <td>0.046256</td>\n",
       "      <td>21.0</td>\n",
       "      <td>25</td>\n",
       "      <td>1</td>\n",
       "      <td>Energy Metabolism</td>\n",
       "      <td>0.081113</td>\n",
       "    </tr>\n",
       "    <tr>\n",
       "      <th>ArgR</th>\n",
       "      <td>argR</td>\n",
       "      <td>0.177778</td>\n",
       "      <td>6.030000e-18</td>\n",
       "      <td>0.923077</td>\n",
       "      <td>0.098361</td>\n",
       "      <td>12.0</td>\n",
       "      <td>13</td>\n",
       "      <td>1</td>\n",
       "      <td>Amino Acid and Nucleotide Biosynthesis</td>\n",
       "      <td>0.080441</td>\n",
       "    </tr>\n",
       "    <tr>\n",
       "      <th>AtoC</th>\n",
       "      <td>atoC</td>\n",
       "      <td>0.800000</td>\n",
       "      <td>0.000000e+00</td>\n",
       "      <td>0.666667</td>\n",
       "      <td>1.000000</td>\n",
       "      <td>4.0</td>\n",
       "      <td>6</td>\n",
       "      <td>1</td>\n",
       "      <td>Miscellaneous Metabolism</td>\n",
       "      <td>0.105756</td>\n",
       "    </tr>\n",
       "  </tbody>\n",
       "</table>\n",
       "</div>"
      ],
      "text/plain": [
       "                     regulator   f1score        pvalue  precision    recall  \\\n",
       "AllR/AraC/FucR  allR/araC/fucR  0.750000  1.190000e-41   1.000000  0.600000   \n",
       "ArcA-1                    arcA  0.130952  6.420000e-20   0.660000  0.072687   \n",
       "ArcA-2                    arcA  0.087683  1.150000e-16   0.840000  0.046256   \n",
       "ArgR                      argR  0.177778  6.030000e-18   0.923077  0.098361   \n",
       "AtoC                      atoC  0.800000  0.000000e+00   0.666667  1.000000   \n",
       "\n",
       "                  TP  n_genes  n_tf                                Category  \\\n",
       "AllR/AraC/FucR  18.0       18     3               Carbon Source Utilization   \n",
       "ArcA-1          33.0       50     1                       Energy Metabolism   \n",
       "ArcA-2          21.0       25     1                       Energy Metabolism   \n",
       "ArgR            12.0       13     1  Amino Acid and Nucleotide Biosynthesis   \n",
       "AtoC             4.0        6     1                Miscellaneous Metabolism   \n",
       "\n",
       "                threshold  \n",
       "AllR/AraC/FucR   0.086996  \n",
       "ArcA-1           0.058051  \n",
       "ArcA-2           0.081113  \n",
       "ArgR             0.080441  \n",
       "AtoC             0.105756  "
      ]
     },
     "execution_count": 58,
     "metadata": {},
     "output_type": "execute_result"
    }
   ],
   "source": [
    "ica_data2.imodulon_table.head()"
   ]
  },
  {
   "cell_type": "markdown",
   "metadata": {},
   "source": [
    "# Check out the [Readthedocs](https://pymodulon.readthedocs.io/en/latest/index.html) for more!"
   ]
  }
 ],
 "metadata": {
  "kernelspec": {
   "display_name": "Python 3",
   "language": "python",
   "name": "python3"
  },
  "language_info": {
   "codemirror_mode": {
    "name": "ipython",
    "version": 3
   },
   "file_extension": ".py",
   "mimetype": "text/x-python",
   "name": "python",
   "nbconvert_exporter": "python",
   "pygments_lexer": "ipython3",
   "version": "3.8.5"
  },
  "toc": {
   "base_numbering": 1,
   "nav_menu": {},
   "number_sections": true,
   "sideBar": true,
   "skip_h1_title": false,
   "title_cell": "Table of Contents",
   "title_sidebar": "Contents",
   "toc_cell": false,
   "toc_position": {},
   "toc_section_display": true,
   "toc_window_display": false
  },
  "varInspector": {
   "cols": {
    "lenName": 16,
    "lenType": 16,
    "lenVar": 40
   },
   "kernels_config": {
    "python": {
     "delete_cmd_postfix": "",
     "delete_cmd_prefix": "del ",
     "library": "var_list.py",
     "varRefreshCmd": "print(var_dic_list())"
    },
    "r": {
     "delete_cmd_postfix": ") ",
     "delete_cmd_prefix": "rm(",
     "library": "var_list.r",
     "varRefreshCmd": "cat(var_dic_list()) "
    }
   },
   "types_to_exclude": [
    "module",
    "function",
    "builtin_function_or_method",
    "instance",
    "_Feature"
   ],
   "window_display": false
  }
 },
 "nbformat": 4,
 "nbformat_minor": 5
}
